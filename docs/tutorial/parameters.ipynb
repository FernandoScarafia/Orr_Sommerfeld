{
 "cells": [
  {
   "cell_type": "markdown",
   "source": [
    "# Parameters\r\n",
    "\r\n",
    "The computational and physical parameters are handled by [xcompact3d_toolbox.Parameters](https://xcompact3d-toolbox.readthedocs.io/en/stable/Docstrings.html#xcompact3d_toolbox.parameters.Parameters). It is built on top of [Traitlets](https://traitlets.readthedocs.io/en/stable/index.html), which aims to make the parameters compatible with what XCompact3d expects, and also brings some advantages:\r\n",
    "\r\n",
    "* Attributes are type-checked;\r\n",
    "* Default values, restrictions and connections between related parameters are applied when necessary;\r\n",
    "* 'On change' callbacks for validation and observation;\r\n",
    "* Two-way linking with [ipywidgets](https://ipywidgets.readthedocs.io/en/latest/)."
   ],
   "metadata": {}
  },
  {
   "cell_type": "code",
   "execution_count": null,
   "source": [
    "import numpy as np\r\n",
    "import xcompact3d_toolbox as x3d"
   ],
   "outputs": [],
   "metadata": {}
  },
  {
   "cell_type": "markdown",
   "source": [
    "The first step is to establish numerical precision. Use `np.float64` if Xcompact3d was compiled with the flag `-DDOUBLE_PREC` (check the Makefile), use `np.float32` otherwise:"
   ],
   "metadata": {}
  },
  {
   "cell_type": "code",
   "execution_count": null,
   "source": [
    "x3d.param[\"mytype\"] = np.float32"
   ],
   "outputs": [],
   "metadata": {}
  },
  {
   "cell_type": "markdown",
   "source": [
    "## Initialization"
   ],
   "metadata": {}
  },
  {
   "cell_type": "markdown",
   "source": [
    "There are a few ways to initialize the class. First, calling it with no arguments initializes all variables with default value:"
   ],
   "metadata": {}
  },
  {
   "cell_type": "code",
   "execution_count": null,
   "source": [
    "prm = x3d.Parameters()"
   ],
   "outputs": [],
   "metadata": {}
  },
  {
   "cell_type": "markdown",
   "source": [
    "You can access a list with all the available variables at the [Api reference](https://xcompact3d-toolbox.readthedocs.io/en/latest/Docstrings.html)."
   ],
   "metadata": {}
  },
  {
   "cell_type": "markdown",
   "source": [
    "Let's see how it looks like:"
   ],
   "metadata": {}
  },
  {
   "cell_type": "code",
   "execution_count": null,
   "source": [
    "print(prm)"
   ],
   "outputs": [],
   "metadata": {}
  },
  {
   "cell_type": "markdown",
   "source": [
    "It is possible to access and/or set values afterwards:"
   ],
   "metadata": {}
  },
  {
   "cell_type": "code",
   "execution_count": null,
   "source": [
    "# Reynolds Number\r\n",
    "print(prm.re)\r\n",
    "\r\n",
    "# attribute new value\r\n",
    "prm.re = 1e6\r\n",
    "print(prm.re)"
   ],
   "outputs": [],
   "metadata": {}
  },
  {
   "cell_type": "markdown",
   "source": [
    "Second, we can specify some values, and let the missing ones be initialized with default value:"
   ],
   "metadata": {}
  },
  {
   "cell_type": "code",
   "execution_count": null,
   "source": [
    "prm = x3d.Parameters(\r\n",
    "    filename=\"example.i3d\",\r\n",
    "    itype=10,\r\n",
    "    nx=129,\r\n",
    "    ny=65,\r\n",
    "    nz=32,\r\n",
    "    xlx=15.0,\r\n",
    "    yly=10.0,\r\n",
    "    zlz=3.0,\r\n",
    "    nclx1=2,\r\n",
    "    nclxn=2,\r\n",
    "    ncly1=1,\r\n",
    "    nclyn=1,\r\n",
    "    nclz1=0,\r\n",
    "    nclzn=0,\r\n",
    "    iin=1,\r\n",
    "    istret=2,\r\n",
    "    re=300.0,\r\n",
    "    init_noise=0.0125,\r\n",
    "    inflow_noise=0.0125,\r\n",
    "    dt=0.0025,\r\n",
    "    ifirst=1,\r\n",
    "    ilast=45000,\r\n",
    "    irestart=0,\r\n",
    "    icheckpoint=45000,\r\n",
    "    ioutput=200,\r\n",
    "    iprocessing=50,\r\n",
    ")"
   ],
   "outputs": [],
   "metadata": {}
  },
  {
   "cell_type": "markdown",
   "source": [
    "It is easy to write `example.i3d` to disc, just type:"
   ],
   "metadata": {}
  },
  {
   "cell_type": "code",
   "execution_count": null,
   "source": [
    "prm.write()"
   ],
   "outputs": [],
   "metadata": {}
  },
  {
   "cell_type": "markdown",
   "source": [
    "And finally, it is possible to read the parameters from the disc:"
   ],
   "metadata": {}
  },
  {
   "cell_type": "code",
   "execution_count": null,
   "source": [
    "prm = x3d.Parameters(filename=\"example.i3d\")\r\n",
    "prm.load()"
   ],
   "outputs": [],
   "metadata": {}
  },
  {
   "cell_type": "markdown",
   "source": [
    "The same result is obtained in a more concise way:"
   ],
   "metadata": {}
  },
  {
   "cell_type": "code",
   "execution_count": null,
   "source": [
    "prm = x3d.Parameters(loadfile=\"example.i3d\")"
   ],
   "outputs": [],
   "metadata": {}
  },
  {
   "cell_type": "markdown",
   "source": [
    "The class can also read the previous parameters format ([se more information here](https://github.com/fschuch/xcompact3d_toolbox/issues/7)):\r\n",
    "\r\n",
    "``` python\r\n",
    "prm = x3d.Parameters(loadfile=\"incompact3d.prm\")\r\n",
    "```"
   ],
   "metadata": {}
  },
  {
   "cell_type": "markdown",
   "source": [
    "There are extra objects to read and write the raw binary files from XCompact3d on-demand.\r\n",
    "\r\n",
    "* Read a binary field from the disc:\r\n",
    "\r\n",
    "    ``` python\r\n",
    "    ux = prm.dataset.load_array(\"ux-0000.bin\")\r\n",
    "    ```\r\n",
    "\r\n",
    "* Read the entire time series for a given variable:\r\n",
    "\r\n",
    "    ``` python\r\n",
    "    ux = prm.dataset.load_time_series(\"ux\")\r\n",
    "    ```\r\n",
    "    \r\n",
    "* Read all variables for a given snapshot:\r\n",
    "\r\n",
    "    ```python\r\n",
    "    snapshot = prm.dataset.load_snapshot(10)\r\n",
    "    ```\r\n",
    "\r\n",
    "* Write `xdmf` files, so the binary files can be open in any external visualization tool:\r\n",
    "\r\n",
    "    ``` python\r\n",
    "    prm.dataset.write_xdmf()\r\n",
    "    ```\r\n",
    "\r\n",
    "* Compute the coordinates, including support for mesh refinement in y:"
   ],
   "metadata": {}
  },
  {
   "cell_type": "code",
   "execution_count": null,
   "source": [
    "prm.get_mesh()"
   ],
   "outputs": [],
   "metadata": {}
  },
  {
   "cell_type": "markdown",
   "source": [
    "More details about I/O and array manipulations with [xarray](http://xarray.pydata.org/en/stable/index.html) are available at:\r\n",
    "\r\n",
    "* [Reading and writing files](https://xcompact3d-toolbox.readthedocs.io/en/stable/tutorial/io.html);\r\n",
    "* [Computing and Plotting](https://xcompact3d-toolbox.readthedocs.io/en/stable/tutorial/computing_and_plotting.html)."
   ],
   "metadata": {}
  },
  {
   "cell_type": "markdown",
   "source": [
    "## Traitlets\r\n",
    "\r\n",
    "### Type-checking\r\n",
    "\r\n",
    "All parameters are type-checked, to make sure that they are what `XCompact3d` expects. Use the cellcode below to see how a `TraitError` pops out when we try:\r\n",
    "\r\n",
    "```python\r\n",
    "prm.itype = 10.5\r\n",
    "prm.itype = -5\r\n",
    "prm.itype = 20\r\n",
    "prm.itype = 'sandbox'\r\n",
    "\r\n",
    "```\r\n"
   ],
   "metadata": {}
  },
  {
   "cell_type": "code",
   "execution_count": null,
   "source": [],
   "outputs": [],
   "metadata": {}
  },
  {
   "cell_type": "markdown",
   "source": [
    "### Validation"
   ],
   "metadata": {}
  },
  {
   "cell_type": "markdown",
   "source": [
    "Some parameters, like mesh points (`nx`, `ny` and `nz`), trigger a validation operation when a new value is attributed to them.\r\n",
    "Due to restrictions at the FFT library, they must be equal to:\r\n",
    "\r\n",
    "$$\r\n",
    "n_i = \\left\\{ \\begin{array}{ll} 2^{1+a} \\times 3^b \\times 5^c &\\mbox{if periodic,} \\\\ 2^{1+a} \\times 3^b \\times 5^c + 1 &\\mbox{otherwise,}\r\n",
    "\\end{array} \\right.\r\n",
    "$$\r\n",
    "\r\n",
    "where $a$, $b$ and $c$ are non negative integers. In addition, the derivatives stencil imposes that:\r\n",
    "\r\n",
    "$$\r\n",
    "n_i \\ge \\left\\{ \\begin{array}{ll} 8 &\\mbox{if periodic,} \\\\ 9 &\\mbox{otherwise.}\r\n",
    "\\end{array} \\right.\r\n",
    "$$\r\n",
    "\r\n",
    "Again, give it a try at the cellcode below:\r\n",
    "\r\n",
    "```python\r\n",
    "prm.nx = 129\r\n",
    "prm.nx = 4\r\n",
    "prm.nx = 60\r\n",
    "prm.nx = 61\r\n",
    "```"
   ],
   "metadata": {}
  },
  {
   "cell_type": "code",
   "execution_count": null,
   "source": [],
   "outputs": [],
   "metadata": {}
  },
  {
   "cell_type": "markdown",
   "source": [
    "### Observation"
   ],
   "metadata": {}
  },
  {
   "cell_type": "markdown",
   "source": [
    "Other parameters, like mesh resolution (`dx`, `dy` and `dz`), are automatically updated when any new attribution occurs to mesh points and/or domain size. Let's create a quick print functions to play with:"
   ],
   "metadata": {}
  },
  {
   "cell_type": "code",
   "execution_count": null,
   "source": [
    "def show_param():\r\n",
    "    for var in \"nclx1 nclxn nx xlx dx\".split():\r\n",
    "        print(f\"{var:>5} = {getattr(prm, var)}\")"
   ],
   "outputs": [],
   "metadata": {}
  },
  {
   "cell_type": "markdown",
   "source": [
    "We are starting with:"
   ],
   "metadata": {}
  },
  {
   "cell_type": "code",
   "execution_count": null,
   "source": [
    "show_param()"
   ],
   "outputs": [],
   "metadata": {}
  },
  {
   "cell_type": "markdown",
   "source": [
    "Let's change just the domain's length:"
   ],
   "metadata": {}
  },
  {
   "cell_type": "code",
   "execution_count": null,
   "source": [
    "prm.xlx = 50.0\r\n",
    "\r\n",
    "show_param()"
   ],
   "outputs": [],
   "metadata": {}
  },
  {
   "cell_type": "markdown",
   "source": [
    "The resolution was updated as well. Now the number of mesh points:"
   ],
   "metadata": {}
  },
  {
   "cell_type": "code",
   "execution_count": null,
   "source": [
    "prm.nx = 121\r\n",
    "\r\n",
    "show_param()"
   ],
   "outputs": [],
   "metadata": {}
  },
  {
   "cell_type": "markdown",
   "source": [
    "Again, the resolution was updated. Now we set a new mesh resolution, this time, `xlx` will be updated in order to satisfy the new resolution:"
   ],
   "metadata": {}
  },
  {
   "cell_type": "code",
   "execution_count": null,
   "source": [
    "prm.dx = 1e-2\r\n",
    "\r\n",
    "show_param()"
   ],
   "outputs": [],
   "metadata": {}
  },
  {
   "cell_type": "markdown",
   "source": [
    "Boundary conditions are observed as well. Xcompact3d allows three different BC for velocity:\r\n",
    "\r\n",
    "* Periodic `0`;\r\n",
    "* Free-slip `1`;\r\n",
    "* Dirichlet `2`.\r\n",
    "\r\n",
    "They can be assigned individually for each of the six boundaries:\r\n",
    "\r\n",
    "* `nclx1` and `nclxn`, where $x=0$ and $x=xlx$;\r\n",
    "* `ncly1` and `nclyn`, where $y=0$ and $y=yly$;\r\n",
    "* `nclz1` and `nclzn`, where $z=0$ and $z=zlz$.\r\n",
    "\r\n",
    "It leads to 5 possibilities (`00`, `11`, `12`, `21` and `22`), because both boundary must be periodic, or not, so `0` cannot be combined.\r\n",
    "\r\n",
    "Let's check it out, we are starting with:"
   ],
   "metadata": {}
  },
  {
   "cell_type": "code",
   "execution_count": null,
   "source": [
    "show_param()"
   ],
   "outputs": [],
   "metadata": {}
  },
  {
   "cell_type": "markdown",
   "source": [
    "We will change just one side to periodic (`nclx1 = 0`), for consistence, the other side should be periodic too. Let's see:"
   ],
   "metadata": {}
  },
  {
   "cell_type": "code",
   "execution_count": null,
   "source": [
    "prm.nclx1 = 0\r\n",
    "\r\n",
    "show_param()"
   ],
   "outputs": [],
   "metadata": {}
  },
  {
   "cell_type": "markdown",
   "source": [
    "Now free-slip in one side (`nclx1 = 1`), and the other should be non-periodic:"
   ],
   "metadata": {}
  },
  {
   "cell_type": "code",
   "execution_count": null,
   "source": [
    "prm.nclx1 = 1\r\n",
    "\r\n",
    "show_param()"
   ],
   "outputs": [],
   "metadata": {}
  },
  {
   "cell_type": "markdown",
   "source": [
    "Setting the other boundary to periodic:"
   ],
   "metadata": {}
  },
  {
   "cell_type": "code",
   "execution_count": null,
   "source": [
    "prm.nclxn = 0\r\n",
    "\r\n",
    "show_param()"
   ],
   "outputs": [],
   "metadata": {}
  },
  {
   "cell_type": "markdown",
   "source": [
    "and now back to Dirichlet:"
   ],
   "metadata": {}
  },
  {
   "cell_type": "code",
   "execution_count": null,
   "source": [
    "prm.nclxn = 2\r\n",
    "\r\n",
    "show_param()"
   ],
   "outputs": [],
   "metadata": {}
  },
  {
   "cell_type": "markdown",
   "source": [
    "This time, free-slip:"
   ],
   "metadata": {}
  },
  {
   "cell_type": "code",
   "execution_count": null,
   "source": [
    "prm.nclxn = 1\r\n",
    "\r\n",
    "show_param()"
   ],
   "outputs": [],
   "metadata": {}
  },
  {
   "cell_type": "markdown",
   "source": [
    "There was no need to update `nclx1`, because `1` and `2` can be freely combined. Notice that `nx` was modified properly from 121 to 120 and then back, according to the possible values, `dx` and `xlx` stayed untouched."
   ],
   "metadata": {}
  },
  {
   "cell_type": "markdown",
   "source": [
    "### Metadata"
   ],
   "metadata": {}
  },
  {
   "cell_type": "markdown",
   "source": [
    "Traitlets types constructors have a `tag` method to store metadata in a dictionary. In the case of Xcompact3d-toolbox, two are especially useful:\r\n",
    "\r\n",
    "* `group` defines to what namespace a given parameter belongs when the class is written to `.i3d` file (`.write()` method) or read from `.i3d` or `.prm` files (`.load()` method), parameters without a group are ignored for both methods;\r\n",
    "* `desc` contains a brief description of each parameter that is shown on screen as we saw above, and also printed with the `.write()` method."
   ],
   "metadata": {}
  },
  {
   "cell_type": "markdown",
   "source": [
    "### Declaring new parameters"
   ],
   "metadata": {}
  },
  {
   "cell_type": "markdown",
   "source": [
    "You probably would like to add more parameters for your own flow configuration, or because some of them were not implemented yet (it is a work in progress).\r\n",
    "\r\n",
    "To do so, any auxiliar variable can be included after initialization, like:"
   ],
   "metadata": {}
  },
  {
   "cell_type": "code",
   "execution_count": null,
   "source": [
    "prm.my_variable = 0  # or any other datatype"
   ],
   "outputs": [],
   "metadata": {}
  },
  {
   "cell_type": "markdown",
   "source": [
    "It was called auxiliar variable because, in this way, it will be available only for the Python application.\r\n",
    "\r\n",
    "In order to include it at the `.i3d` file and make it available for XCompact3d, we can create a subclass that inherits all the functionality from `xcompact3d_toolbox.Parameters`:"
   ],
   "metadata": {}
  },
  {
   "cell_type": "code",
   "execution_count": null,
   "source": [
    "import traitlets\r\n",
    "\r\n",
    "\r\n",
    "# Create a class named my_Parameters, which inherits the properties all properties and methods\r\n",
    "class my_Parameters(x3d.Parameters):\r\n",
    "    # .tag with group and description guarantees that the new variable will\r\n",
    "    # be compatible with all functionalities (like .write() and .load())\r\n",
    "    my_variable = traitlets.Int(default_value=0, min=0).tag(\r\n",
    "        group=\"BasicParam\", desc=\"An example at the Tutorial <------\"\r\n",
    "    )\r\n",
    "\r\n",
    "    # And a custom method, for instance\r\n",
    "    def my_method(self):\r\n",
    "        return self.my_variable * 2\r\n",
    "\r\n",
    "\r\n",
    "prm = my_Parameters(nx=257, ny=129, nz=31, my_variable=10)  # and here we go\r\n",
    "\r\n",
    "# Testing the method\r\n",
    "print(prm.my_method())\r\n",
    "\r\n",
    "# Show all parameters on screen\r\n",
    "print(prm)"
   ],
   "outputs": [],
   "metadata": {}
  },
  {
   "cell_type": "markdown",
   "source": [
    "Take a look at the source code of [parameters.py](https://github.com/fschuch/xcompact3d_toolbox/blob/main/xcompact3d_toolbox/parameters.py) if you need more examples for different data types."
   ],
   "metadata": {}
  },
  {
   "cell_type": "markdown",
   "source": [
    "## Graphical User Interface"
   ],
   "metadata": {}
  },
  {
   "cell_type": "markdown",
   "source": [
    "<div class=\"alert alert-info\">\r\n",
    "\r\n",
    "For an interactive experience [launch this tutorial on Binder](https://mybinder.org/v2/gh/fschuch/xcompact3d_toolbox/main?labpath=.%2Fdocs%2Ftutorial), the widgets are not so responsive when disconnected from a Python application.\r\n",
    "\r\n",
    "</div>"
   ],
   "metadata": {}
  },
  {
   "cell_type": "markdown",
   "source": [
    "To conclude this part of the tutorial, let's see another option to handle the parameters. The class `ParametersGui` is a subclass of `Parameters`, and includes all the features described above. In addition, `ParametersGui` offers an user interface with [IPywidgets](https://ipywidgets.readthedocs.io/en/stable/index.html).\r\n",
    "\r\n",
    "It is still under development, more parameters and features are going to be included soon, as well as more widgets.\r\n",
    "\r\n",
    "Just like before, we start with:"
   ],
   "metadata": {}
  },
  {
   "cell_type": "code",
   "execution_count": null,
   "source": [
    "prm = x3d.ParametersGui()"
   ],
   "outputs": [],
   "metadata": {}
  },
  {
   "cell_type": "markdown",
   "source": [
    "Widgets are returned on demand when any instance of `class ParametersGui` is called, let’s see:"
   ],
   "metadata": {}
  },
  {
   "cell_type": "code",
   "execution_count": null,
   "source": [
    "prm(\"nx\", \"xlx\", \"dx\", \"nclx1\", \"nclxn\")"
   ],
   "outputs": [],
   "metadata": {}
  },
  {
   "cell_type": "markdown",
   "source": [
    "You can play around with the widgets above and see the effect of the observations made previously.\r\n",
    "\r\n",
    "Notice that the [Traitlets](https://traitlets.readthedocs.io/en/stable/index.html) parameters are related to the value at their widgets in a **two-way link**, in this way, a print will show the actual value on the widgets:"
   ],
   "metadata": {}
  },
  {
   "cell_type": "code",
   "execution_count": null,
   "source": [
    "show_param()"
   ],
   "outputs": [],
   "metadata": {}
  },
  {
   "cell_type": "markdown",
   "source": [
    "Give it a try, modify the values at the widgets and print them again.\r\n",
    "\r\n",
    "It also works on the other way, set a new value to a parameters will change its widget, try it:"
   ],
   "metadata": {}
  },
  {
   "cell_type": "code",
   "execution_count": null,
   "source": [
    "#prm.nclx1 = 0"
   ],
   "outputs": [],
   "metadata": {}
  },
  {
   "cell_type": "markdown",
   "source": [
    "And of course, different widgets for the same parameter are always synchronized, change the widget below and see what happens with the widget above:"
   ],
   "metadata": {}
  },
  {
   "cell_type": "code",
   "execution_count": null,
   "source": [
    "prm('nx')"
   ],
   "outputs": [],
   "metadata": {}
  },
  {
   "cell_type": "markdown",
   "source": [
    "A last example is about the domain decomposition for parallel computation, Xcompact3d uses [2DECOMP&FFT](http://www.2decomp.org/).\r\n",
    "The available options for `p_row` and `p_col` are presented as functions of the number of computational cores `ncores`, notice that `p_row * p_col = ncores` should be respected and `p_row * p_col = 0` activates the auto-tunning mode. The widgets are prepared to respect these restrictions:"
   ],
   "metadata": {}
  },
  {
   "cell_type": "code",
   "execution_count": null,
   "source": [
    "prm('ncores', 'p_row', 'p_col')"
   ],
   "outputs": [],
   "metadata": {}
  },
  {
   "cell_type": "markdown",
   "source": [
    "To conclude this part of the tutorial, let’s see what happens when `class ParametersGui` is presented on screen, hover the mouse over some variable to see its description:"
   ],
   "metadata": {}
  },
  {
   "cell_type": "code",
   "execution_count": null,
   "source": [
    "prm"
   ],
   "outputs": [],
   "metadata": {}
  }
 ],
 "metadata": {
  "kernelspec": {
   "name": "python3",
   "display_name": "Python 3.9.5 64-bit ('idp': conda)"
  },
  "language_info": {
   "codemirror_mode": {
    "name": "ipython",
    "version": 3
   },
   "file_extension": ".py",
   "mimetype": "text/x-python",
   "name": "python",
   "nbconvert_exporter": "python",
   "pygments_lexer": "ipython3",
   "version": "3.9.5"
  },
  "widgets": {
   "application/vnd.jupyter.widget-state+json": {
    "state": {
     "004d89f6817d46ec86046346f797174d": {
      "model_module": "@jupyter-widgets/controls",
      "model_module_version": "1.5.0",
      "model_name": "DescriptionStyleModel",
      "state": {
       "description_width": ""
      }
     },
     "033a47dedd7b4b02b0206dc97d0adedc": {
      "model_module": "@jupyter-widgets/controls",
      "model_module_version": "1.5.0",
      "model_name": "BoundedIntTextModel",
      "state": {
       "description": "nvisu",
       "description_tooltip": "Size for visualization collection",
       "disabled": true,
       "layout": "IPY_MODEL_3a7a2487fae64579afe2583a40f4c3e2",
       "max": 1000000000,
       "min": 1,
       "style": "IPY_MODEL_a536eb16080744fca4928ef79dc57529",
       "value": 1
      }
     },
     "0340223fe30d484892b21e9334b0aebd": {
      "model_module": "@jupyter-widgets/base",
      "model_module_version": "1.2.0",
      "model_name": "LayoutModel",
      "state": {}
     },
     "0391420ece174d27bc205b366db17507": {
      "model_module": "@jupyter-widgets/base",
      "model_module_version": "1.2.0",
      "model_name": "LayoutModel",
      "state": {}
     },
     "049024b5d0e9490292899ddbeb7a01b0": {
      "model_module": "@jupyter-widgets/controls",
      "model_module_version": "1.5.0",
      "model_name": "DropdownModel",
      "state": {
       "_options_labels": [
        "Periodic",
        "Free-slip",
        "No-slip"
       ],
       "description": "nclyn",
       "description_tooltip": "Velocity boundary condition where y=yly",
       "index": 2,
       "layout": "IPY_MODEL_cf666ac5cd584eb98d767128822b79df",
       "style": "IPY_MODEL_6e1d39a0c8c341108c9ce70a528d1335"
      }
     },
     "04ef7aed9f034871b2dd97eae7beaf93": {
      "model_module": "@jupyter-widgets/controls",
      "model_module_version": "1.5.0",
      "model_name": "DescriptionStyleModel",
      "state": {
       "description_width": ""
      }
     },
     "058f8eeb578740c2949de722a9a783a2": {
      "model_module": "@jupyter-widgets/base",
      "model_module_version": "1.2.0",
      "model_name": "LayoutModel",
      "state": {}
     },
     "05b5651c6ee04fdeb3ecbb9431aac49a": {
      "model_module": "@jupyter-widgets/controls",
      "model_module_version": "1.5.0",
      "model_name": "DescriptionStyleModel",
      "state": {
       "description_width": ""
      }
     },
     "05f2cded3ed644a1873dfdd4e8c57a73": {
      "model_module": "@jupyter-widgets/base",
      "model_module_version": "1.2.0",
      "model_name": "LayoutModel",
      "state": {}
     },
     "084c5628d4194a6798366ed2bd892009": {
      "model_module": "@jupyter-widgets/base",
      "model_module_version": "1.2.0",
      "model_name": "LayoutModel",
      "state": {}
     },
     "092e7f78cd4e43209049a1486223d307": {
      "model_module": "@jupyter-widgets/controls",
      "model_module_version": "1.5.0",
      "model_name": "ButtonModel",
      "state": {
       "description": "Write",
       "disabled": true,
       "icon": "file-download",
       "layout": "IPY_MODEL_45a2ff9b0a314c228092b3d5b2a59640",
       "style": "IPY_MODEL_ad76801c8ac04494922e0e6903e4a176"
      }
     },
     "0a087f17bf294318ade98c389780f5be": {
      "model_module": "@jupyter-widgets/controls",
      "model_module_version": "1.5.0",
      "model_name": "DropdownModel",
      "state": {
       "_options_labels": [
        "Periodic",
        "No-flux",
        "Dirichlet"
       ],
       "description": "nclxSn",
       "description_tooltip": "Scalar boundary condition where x=xlx",
       "index": 2,
       "layout": "IPY_MODEL_7bb4fcaeeca940ebb4efd4a97d130ed1",
       "style": "IPY_MODEL_d688cc616ad04b1fb84b62eb6b0dcb4e"
      }
     },
     "0acadf726eeb4806950580399e3d84f0": {
      "model_module": "@jupyter-widgets/controls",
      "model_module_version": "1.5.0",
      "model_name": "IntSliderModel",
      "state": {
       "description": "nraf",
       "description_tooltip": "Level of refinement for iibm==2 to find the surface of the immersed object",
       "layout": "IPY_MODEL_467b14b2dca54e75a63e5c92e600ab48",
       "max": 25,
       "min": 1,
       "style": "IPY_MODEL_fb3a3bf61b0840739b74ae7f8978f572",
       "value": 10
      }
     },
     "0d60cce4a6514241bc08d4746675f5cd": {
      "model_module": "@jupyter-widgets/base",
      "model_module_version": "1.2.0",
      "model_name": "LayoutModel",
      "state": {}
     },
     "0de280c23f3048fd97abb3af21d38270": {
      "model_module": "@jupyter-widgets/controls",
      "model_module_version": "1.5.0",
      "model_name": "DropdownModel",
      "state": {
       "_options_labels": [
        "Periodic",
        "Free-slip",
        "Outflow"
       ],
       "description": "nclxn",
       "description_tooltip": "Velocity boundary condition where x=xlx",
       "index": 2,
       "layout": "IPY_MODEL_92722eb760f74795a2fd0fea78eb4d2d",
       "style": "IPY_MODEL_7eaced5f15fa4b288066511e95dbf9c9"
      }
     },
     "0e55e49f3fe8433fa12abc2c85e5f5c5": {
      "model_module": "@jupyter-widgets/base",
      "model_module_version": "1.2.0",
      "model_name": "LayoutModel",
      "state": {}
     },
     "0e91b08a8c12438ca174a07fb18bb27e": {
      "model_module": "@jupyter-widgets/base",
      "model_module_version": "1.2.0",
      "model_name": "LayoutModel",
      "state": {}
     },
     "0f39dca962bb4bdd87d066b674d359b4": {
      "model_module": "@jupyter-widgets/controls",
      "model_module_version": "1.5.0",
      "model_name": "DropdownModel",
      "state": {
       "_options_labels": [
        "DNS",
        "Phys Smag",
        "Phys WALE",
        "Phys dyn. Smag",
        "iSVV"
       ],
       "description": "jles",
       "description_tooltip": "LES Model (1: Phys Smag, 2: Phys WALE, 3: Phys dyn. Smag, 4: iSVV)",
       "index": 4,
       "layout": "IPY_MODEL_473c1cb4d7b946b8bc049f90def9a2cf",
       "style": "IPY_MODEL_32fea14b00be495090548bbea564dc1c"
      }
     },
     "0f643ff9f37941788c53e1710192ead1": {
      "model_module": "@jupyter-widgets/controls",
      "model_module_version": "1.5.0",
      "model_name": "DescriptionStyleModel",
      "state": {
       "description_width": ""
      }
     },
     "1064430f947c41688ede2426029a0629": {
      "model_module": "@jupyter-widgets/controls",
      "model_module_version": "1.5.0",
      "model_name": "DescriptionStyleModel",
      "state": {
       "description_width": ""
      }
     },
     "10aafa327e324f619cdadbcd5dc5e89a": {
      "model_module": "@jupyter-widgets/base",
      "model_module_version": "1.2.0",
      "model_name": "LayoutModel",
      "state": {}
     },
     "10daccc0e6cb4a76a6082881e867bb75": {
      "model_module": "@jupyter-widgets/controls",
      "model_module_version": "1.5.0",
      "model_name": "DescriptionStyleModel",
      "state": {
       "description_width": ""
      }
     },
     "1160b790683f4d0cab3cd0b4fe95f445": {
      "model_module": "@jupyter-widgets/base",
      "model_module_version": "1.2.0",
      "model_name": "LayoutModel",
      "state": {}
     },
     "11a3074c8faf4dce895358fdc83370a3": {
      "model_module": "@jupyter-widgets/controls",
      "model_module_version": "1.5.0",
      "model_name": "DescriptionStyleModel",
      "state": {
       "description_width": ""
      }
     },
     "11bd3075b7ae484b87bd49eb582e2df0": {
      "model_module": "@jupyter-widgets/controls",
      "model_module_version": "1.5.0",
      "model_name": "HBoxModel",
      "state": {
       "children": [
        "IPY_MODEL_b2408111f69642b097006c4f02b40ca6",
        "IPY_MODEL_033a47dedd7b4b02b0206dc97d0adedc",
        "IPY_MODEL_d8ea7a41dbd64c60a67209dfa15c247a"
       ],
       "layout": "IPY_MODEL_bfe1134576974610ba800d40156d0ac3"
      }
     },
     "159eaced52ed45ab9a81946bbd56e29e": {
      "model_module": "@jupyter-widgets/controls",
      "model_module_version": "1.5.0",
      "model_name": "DropdownModel",
      "state": {
       "_options_labels": [
        "9",
        "11",
        "13",
        "17",
        "19",
        "21",
        "25",
        "31",
        "33",
        "37",
        "41",
        "49",
        "51",
        "55",
        "61",
        "65",
        "73",
        "81",
        "91",
        "97",
        "101",
        "109",
        "121",
        "129",
        "145",
        "151",
        "161",
        "163",
        "181",
        "193",
        "201",
        "217",
        "241",
        "251",
        "257",
        "271",
        "289",
        "301",
        "321",
        "325",
        "361",
        "385",
        "401",
        "433",
        "451",
        "481",
        "487",
        "501",
        "513",
        "541",
        "577",
        "601",
        "641",
        "649",
        "721",
        "751",
        "769",
        "801",
        "811",
        "865",
        "901",
        "961",
        "973",
        "1001",
        "1025",
        "1081",
        "1153",
        "1201",
        "1251",
        "1281",
        "1297",
        "1351",
        "1441",
        "1459",
        "1501",
        "1537",
        "1601",
        "1621",
        "1729",
        "1801",
        "1921",
        "1945",
        "2001",
        "2049",
        "2161",
        "2251",
        "2305",
        "2401",
        "2431",
        "2501",
        "2561",
        "2593",
        "2701",
        "2881",
        "2917",
        "3001",
        "3073",
        "3201",
        "3241",
        "3457",
        "3601",
        "3751",
        "3841",
        "3889",
        "4001",
        "4051",
        "4097",
        "4321",
        "4375",
        "4501",
        "4609",
        "4801",
        "4861",
        "5001",
        "5121",
        "5185",
        "5401",
        "5761",
        "5833",
        "6001",
        "6145",
        "6251",
        "6401",
        "6481",
        "6751",
        "6913",
        "7201",
        "7291",
        "7501",
        "7681",
        "7777",
        "8001",
        "8101",
        "8193",
        "8641",
        "8749",
        "9001"
       ],
       "description": "nz",
       "description_tooltip": "Z-direction nodes",
       "index": 3,
       "layout": "IPY_MODEL_2bf49480f49d4d48b68156c838febc53",
       "style": "IPY_MODEL_c6177904a34a41b7ae46a15bef8f99b1"
      }
     },
     "17b0c8a94924459c908347df62669715": {
      "model_module": "@jupyter-widgets/base",
      "model_module_version": "1.2.0",
      "model_name": "LayoutModel",
      "state": {}
     },
     "1873aff1c3c34f209f6569dc7f4e01a7": {
      "model_module": "@jupyter-widgets/controls",
      "model_module_version": "1.5.0",
      "model_name": "VBoxModel",
      "state": {
       "children": [
        "IPY_MODEL_a62020b0f02847bdbf2e539927caacff",
        "IPY_MODEL_d48cbef374c64e6596f1d55e03f947d9",
        "IPY_MODEL_58015c9397ee4395af335c00dcfcfee2"
       ],
       "layout": "IPY_MODEL_5c9b5c77d0904e1aba7a4f33352170d9"
      }
     },
     "1aa57dbda5084118951b456dd9b2d81c": {
      "model_module": "@jupyter-widgets/base",
      "model_module_version": "1.2.0",
      "model_name": "LayoutModel",
      "state": {}
     },
     "1b80fbd1b6a54077b56a62ce39d2842e": {
      "model_module": "@jupyter-widgets/base",
      "model_module_version": "1.2.0",
      "model_name": "LayoutModel",
      "state": {}
     },
     "1c4a2d538f534f0995df7da85089fd07": {
      "model_module": "@jupyter-widgets/base",
      "model_module_version": "1.2.0",
      "model_name": "LayoutModel",
      "state": {}
     },
     "1e0272cb2a2441c8b63436d028cf2dad": {
      "model_module": "@jupyter-widgets/controls",
      "model_module_version": "1.5.0",
      "model_name": "HTMLModel",
      "state": {
       "layout": "IPY_MODEL_ff743bbe1aad4eb08eb6e0b82f21566b",
       "style": "IPY_MODEL_7f1eb8f2a82a4c279e458752b2133df4",
       "value": "<h2>BasicParam</h2>"
      }
     },
     "1e07e37dd53942aabafefd5150417438": {
      "model_module": "@jupyter-widgets/controls",
      "model_module_version": "1.5.0",
      "model_name": "BoundedIntTextModel",
      "state": {
       "description": "ilast",
       "description_tooltip": "The number for the last iteration",
       "layout": "IPY_MODEL_2f12ee8d414c4cd4b1e998d29766cdfc",
       "max": 1000000000,
       "style": "IPY_MODEL_d6dfbb3e85094b76836ca14438cbc583"
      }
     },
     "1e615768c6a64f19b855107aef6d99fe": {
      "model_module": "@jupyter-widgets/controls",
      "model_module_version": "1.5.0",
      "model_name": "HBoxModel",
      "state": {
       "children": [
        "IPY_MODEL_9c2addf77a524c27a4dae05fbde9c860",
        "IPY_MODEL_a2549c243c06437db9d9c3d9657a77c9",
        "IPY_MODEL_092e7f78cd4e43209049a1486223d307",
        "IPY_MODEL_38768b8fc6874b308987808385963ca3",
        "IPY_MODEL_be3e6e0793ab4f729a72ab6601a5cfc6"
       ],
       "layout": "IPY_MODEL_eea49cafd1814dfe8583cbcdaed78045"
      }
     },
     "1eb056ece6f842729a78a1d1169a1cf1": {
      "model_module": "@jupyter-widgets/base",
      "model_module_version": "1.2.0",
      "model_name": "LayoutModel",
      "state": {}
     },
     "1f953fd9925a45e98f92e05f5ecc5ae0": {
      "model_module": "@jupyter-widgets/base",
      "model_module_version": "1.2.0",
      "model_name": "LayoutModel",
      "state": {}
     },
     "2165d92569ec42df8cdf154f8d6ea971": {
      "model_module": "@jupyter-widgets/controls",
      "model_module_version": "1.5.0",
      "model_name": "DescriptionStyleModel",
      "state": {
       "description_width": ""
      }
     },
     "216db63584b34a95b118a7fb8da29176": {
      "model_module": "@jupyter-widgets/controls",
      "model_module_version": "1.5.0",
      "model_name": "VBoxModel",
      "state": {
       "children": [
        "IPY_MODEL_a7cd4de718b94786b745a21555efb51b",
        "IPY_MODEL_c37e0d30f0644d1aae61a704e7ca31f1",
        "IPY_MODEL_317d3303f9e34077aa32c83465ac4d0e",
        "IPY_MODEL_30e5fea3f85345bea320fb3e46a5d8a6",
        "IPY_MODEL_0de280c23f3048fd97abb3af21d38270"
       ],
       "layout": "IPY_MODEL_82abcb61660249069541aa11c63d62e3"
      }
     },
     "21c5fab946a44c4ca7868087dba946da": {
      "model_module": "@jupyter-widgets/base",
      "model_module_version": "1.2.0",
      "model_name": "LayoutModel",
      "state": {}
     },
     "21ed77de852a4c99817d70dc9118e716": {
      "model_module": "@jupyter-widgets/base",
      "model_module_version": "1.2.0",
      "model_name": "LayoutModel",
      "state": {}
     },
     "23ef3253621247c79e54e0cb8c5b3a5c": {
      "model_module": "@jupyter-widgets/controls",
      "model_module_version": "1.5.0",
      "model_name": "BoundedIntTextModel",
      "state": {
       "description": "ioutput",
       "description_tooltip": "Frequency for visualization file",
       "layout": "IPY_MODEL_edcc1d29263449a5b725bd4e2591e9df",
       "max": 1000000000,
       "min": 1,
       "step": 100,
       "style": "IPY_MODEL_004d89f6817d46ec86046346f797174d",
       "value": 1000
      }
     },
     "25541005624749ee947063622f157848": {
      "model_module": "@jupyter-widgets/base",
      "model_module_version": "1.2.0",
      "model_name": "LayoutModel",
      "state": {}
     },
     "27723405a4844e0983700b6b06af9d43": {
      "model_module": "@jupyter-widgets/controls",
      "model_module_version": "1.5.0",
      "model_name": "BoundedFloatTextModel",
      "state": {
       "description": "dt",
       "description_tooltip": "Time step",
       "layout": "IPY_MODEL_ff3fe5a18e4f495eb9024431c194f889",
       "max": 1000000000,
       "min": 1e-9,
       "step": null,
       "style": "IPY_MODEL_a9eb19e1ac2c4cf3ad8c7a2e5f7757e1",
       "value": 0.001
      }
     },
     "2a7197aebac4429cad65d8b8fec9e283": {
      "model_module": "@jupyter-widgets/base",
      "model_module_version": "1.2.0",
      "model_name": "LayoutModel",
      "state": {}
     },
     "2a7aef68bb1049068d2a28f54fdcf27f": {
      "model_module": "@jupyter-widgets/controls",
      "model_module_version": "1.5.0",
      "model_name": "DescriptionStyleModel",
      "state": {
       "description_width": ""
      }
     },
     "2aa408d2f3b141048b1ac95e511bf426": {
      "model_module": "@jupyter-widgets/controls",
      "model_module_version": "1.5.0",
      "model_name": "DescriptionStyleModel",
      "state": {
       "description_width": ""
      }
     },
     "2bf49480f49d4d48b68156c838febc53": {
      "model_module": "@jupyter-widgets/base",
      "model_module_version": "1.2.0",
      "model_name": "LayoutModel",
      "state": {}
     },
     "2c0b137e40ca47c4829b5862de1f743d": {
      "model_module": "@jupyter-widgets/controls",
      "model_module_version": "1.5.0",
      "model_name": "DescriptionStyleModel",
      "state": {
       "description_width": ""
      }
     },
     "2ec81e93a7044f1e889cad9a4a79eece": {
      "model_module": "@jupyter-widgets/controls",
      "model_module_version": "1.5.0",
      "model_name": "DescriptionStyleModel",
      "state": {
       "description_width": ""
      }
     },
     "2f12ee8d414c4cd4b1e998d29766cdfc": {
      "model_module": "@jupyter-widgets/base",
      "model_module_version": "1.2.0",
      "model_name": "LayoutModel",
      "state": {}
     },
     "30732f84a08f4bda93dbfefd340a7b9b": {
      "model_module": "@jupyter-widgets/controls",
      "model_module_version": "1.5.0",
      "model_name": "DropdownModel",
      "state": {
       "_options_labels": [
        "Euler",
        "AB2",
        "AB3",
        "RK3",
        "Semi-implicit"
       ],
       "description": "itimescheme",
       "description_tooltip": "Time integration scheme (1: Euler, 2: AB2, 3: AB3, 5: RK3)",
       "index": 2,
       "layout": "IPY_MODEL_a6a425d95c2d4a9f8783818bcb2b777a",
       "style": "IPY_MODEL_4f06f2cff71449548642af60a9c005c1"
      }
     },
     "30e5fea3f85345bea320fb3e46a5d8a6": {
      "model_module": "@jupyter-widgets/controls",
      "model_module_version": "1.5.0",
      "model_name": "DropdownModel",
      "state": {
       "_options_labels": [
        "Periodic",
        "Free-slip",
        "Inflow"
       ],
       "description": "nclx1",
       "description_tooltip": "Velocity boundary condition where x=0",
       "index": 2,
       "layout": "IPY_MODEL_dfb45b32c62c4a1c81a61aece03e6093",
       "style": "IPY_MODEL_ab265f92e19c46b3a15cce0e89a49610"
      }
     },
     "317d3303f9e34077aa32c83465ac4d0e": {
      "model_module": "@jupyter-widgets/controls",
      "model_module_version": "1.5.0",
      "model_name": "BoundedFloatTextModel",
      "state": {
       "description": "dx",
       "layout": "IPY_MODEL_ba012519863b4b9b9578077f6394c7d1",
       "max": 1000000,
       "step": null,
       "style": "IPY_MODEL_89caac40af6d44db8c1627073b700cbb",
       "value": 0.0625
      }
     },
     "32fea14b00be495090548bbea564dc1c": {
      "model_module": "@jupyter-widgets/controls",
      "model_module_version": "1.5.0",
      "model_name": "DescriptionStyleModel",
      "state": {
       "description_width": ""
      }
     },
     "330c5077b2ef4457a744bba4e738877e": {
      "model_module": "@jupyter-widgets/controls",
      "model_module_version": "1.5.0",
      "model_name": "FloatTextModel",
      "state": {
       "description": "init_noise",
       "description_tooltip": "Turbulence intensity (1=100%) !! Initial condition",
       "layout": "IPY_MODEL_6a9097e3d5ef4e2e978e8175e102c799",
       "step": null,
       "style": "IPY_MODEL_f5a99efb5ec043aabcc06ff9f1d87c0d"
      }
     },
     "3409b771bc204669bdf0caa568da202a": {
      "model_module": "@jupyter-widgets/controls",
      "model_module_version": "1.5.0",
      "model_name": "DescriptionStyleModel",
      "state": {
       "description_width": ""
      }
     },
     "346385af69b347efba855400f4acacbf": {
      "model_module": "@jupyter-widgets/controls",
      "model_module_version": "1.5.0",
      "model_name": "HTMLModel",
      "state": {
       "layout": "IPY_MODEL_cb76ce58ba3447089103d5a23ac831b4",
       "style": "IPY_MODEL_2ec81e93a7044f1e889cad9a4a79eece",
       "value": "<h2>IBMStuff</h2>"
      }
     },
     "35cebe6f89bd4c95bf7f957bf406e498": {
      "model_module": "@jupyter-widgets/base",
      "model_module_version": "1.2.0",
      "model_name": "LayoutModel",
      "state": {}
     },
     "36309f01824943fd8dbefd95b9ed33ee": {
      "model_module": "@jupyter-widgets/controls",
      "model_module_version": "1.5.0",
      "model_name": "HBoxModel",
      "state": {
       "children": [
        "IPY_MODEL_c9f68c17a0a343e39b0c9f77b157dce2",
        "IPY_MODEL_1e07e37dd53942aabafefd5150417438",
        "IPY_MODEL_27723405a4844e0983700b6b06af9d43"
       ],
       "layout": "IPY_MODEL_708873558f14408f994d2e229e19efa3"
      }
     },
     "379f23bb857148b698e8939f5dcb3a5a": {
      "model_module": "@jupyter-widgets/controls",
      "model_module_version": "1.5.0",
      "model_name": "DescriptionStyleModel",
      "state": {
       "description_width": ""
      }
     },
     "37bc5f4a457347e784ba828e4b167755": {
      "model_module": "@jupyter-widgets/controls",
      "model_module_version": "1.5.0",
      "model_name": "DescriptionStyleModel",
      "state": {
       "description_width": ""
      }
     },
     "37e5333bb52f465085f9f79b5bd56694": {
      "model_module": "@jupyter-widgets/base",
      "model_module_version": "1.2.0",
      "model_name": "LayoutModel",
      "state": {}
     },
     "37fac51138d44a7e87d0fff10458c9a5": {
      "model_module": "@jupyter-widgets/base",
      "model_module_version": "1.2.0",
      "model_name": "LayoutModel",
      "state": {}
     },
     "38768b8fc6874b308987808385963ca3": {
      "model_module": "@jupyter-widgets/controls",
      "model_module_version": "1.5.0",
      "model_name": "ButtonModel",
      "state": {
       "description": "Run",
       "disabled": true,
       "icon": "rocket",
       "layout": "IPY_MODEL_b94b81b7c8fd4e6292655174c25fd398",
       "style": "IPY_MODEL_7abfa57b1c384506bb8d9c4e79cc4fab"
      }
     },
     "389f7f549ddb4f4881a7b21adc732525": {
      "model_module": "@jupyter-widgets/base",
      "model_module_version": "1.2.0",
      "model_name": "LayoutModel",
      "state": {}
     },
     "3a18814b23874aa3bf47942e3dab0ec2": {
      "model_module": "@jupyter-widgets/controls",
      "model_module_version": "1.5.0",
      "model_name": "DropdownModel",
      "state": {
       "_options_labels": [
        "Off",
        "On"
       ],
       "description": "ivisu",
       "description_tooltip": "Enable store snapshots at a frequency ioutput (0: No, 1: Yes)",
       "index": 1,
       "layout": "IPY_MODEL_3ec37cd9d5154ff990e7442ee9e6d39a",
       "style": "IPY_MODEL_0f643ff9f37941788c53e1710192ead1"
      }
     },
     "3a7a2487fae64579afe2583a40f4c3e2": {
      "model_module": "@jupyter-widgets/base",
      "model_module_version": "1.2.0",
      "model_name": "LayoutModel",
      "state": {}
     },
     "3be17c4d13e6418c96e7d3619cd4f979": {
      "model_module": "@jupyter-widgets/controls",
      "model_module_version": "1.5.0",
      "model_name": "DropdownModel",
      "state": {
       "_options_labels": [
        "No random noise",
        "Random noise",
        "Random noise with fixed seed"
       ],
       "description": "iin",
       "description_tooltip": "Defines perturbation at initial condition",
       "index": 0,
       "layout": "IPY_MODEL_c3f9232c0b9843cbbd6dd8c44084797e",
       "style": "IPY_MODEL_5958bc2256fe40ff9c0deaedba02b252"
      }
     },
     "3cd1a495230a44a69f313e4cebee17f7": {
      "model_module": "@jupyter-widgets/base",
      "model_module_version": "1.2.0",
      "model_name": "LayoutModel",
      "state": {}
     },
     "3d44fa4f0bc6485cacd7f48611736e9f": {
      "model_module": "@jupyter-widgets/base",
      "model_module_version": "1.2.0",
      "model_name": "LayoutModel",
      "state": {}
     },
     "3ec37cd9d5154ff990e7442ee9e6d39a": {
      "model_module": "@jupyter-widgets/base",
      "model_module_version": "1.2.0",
      "model_name": "LayoutModel",
      "state": {}
     },
     "40fe4651e90047078386fd14052431b0": {
      "model_module": "@jupyter-widgets/controls",
      "model_module_version": "1.5.0",
      "model_name": "HTMLModel",
      "state": {
       "layout": "IPY_MODEL_4770a0be0b5c4f04ab67f908dbd99323",
       "style": "IPY_MODEL_66713c9d6b2e4b55878bd687e3491ad5",
       "value": "<h3>Temporal discretization</h3>"
      }
     },
     "42142cbaed6c4b5a9e0fd18af9c4bf3b": {
      "model_module": "@jupyter-widgets/controls",
      "model_module_version": "1.5.0",
      "model_name": "HBoxModel",
      "state": {
       "children": [
        "IPY_MODEL_a62020b0f02847bdbf2e539927caacff",
        "IPY_MODEL_d48cbef374c64e6596f1d55e03f947d9",
        "IPY_MODEL_58015c9397ee4395af335c00dcfcfee2"
       ],
       "layout": "IPY_MODEL_eabde9b4ac504db5832e15be4f47d904"
      }
     },
     "422b51a9211b4418ad2e869641ba4c0d": {
      "model_module": "@jupyter-widgets/controls",
      "model_module_version": "1.5.0",
      "model_name": "DescriptionStyleModel",
      "state": {
       "description_width": ""
      }
     },
     "45a2ff9b0a314c228092b3d5b2a59640": {
      "model_module": "@jupyter-widgets/base",
      "model_module_version": "1.2.0",
      "model_name": "LayoutModel",
      "state": {}
     },
     "467b14b2dca54e75a63e5c92e600ab48": {
      "model_module": "@jupyter-widgets/base",
      "model_module_version": "1.2.0",
      "model_name": "LayoutModel",
      "state": {}
     },
     "473c1cb4d7b946b8bc049f90def9a2cf": {
      "model_module": "@jupyter-widgets/base",
      "model_module_version": "1.2.0",
      "model_name": "LayoutModel",
      "state": {}
     },
     "4770a0be0b5c4f04ab67f908dbd99323": {
      "model_module": "@jupyter-widgets/base",
      "model_module_version": "1.2.0",
      "model_name": "LayoutModel",
      "state": {}
     },
     "48b6d32f009a4f0abf17b255c2a6c63e": {
      "model_module": "@jupyter-widgets/controls",
      "model_module_version": "1.5.0",
      "model_name": "DropdownModel",
      "state": {
       "_options_labels": [
        "Periodic",
        "No-flux",
        "Dirichlet"
       ],
       "description": "nclySn",
       "description_tooltip": "Scalar boundary condition where y=yly",
       "index": 2,
       "layout": "IPY_MODEL_ecd43b4e4a6f40739b7eb213e2875d68",
       "style": "IPY_MODEL_822186a41a654062aa74d23f3abf0a80"
      }
     },
     "4ca48b3a7c104d68b84621ff83b6a96d": {
      "model_module": "@jupyter-widgets/base",
      "model_module_version": "1.2.0",
      "model_name": "LayoutModel",
      "state": {}
     },
     "4f06f2cff71449548642af60a9c005c1": {
      "model_module": "@jupyter-widgets/controls",
      "model_module_version": "1.5.0",
      "model_name": "DescriptionStyleModel",
      "state": {
       "description_width": ""
      }
     },
     "4f244c334bd5468e80d4f6ab423e1192": {
      "model_module": "@jupyter-widgets/controls",
      "model_module_version": "1.5.0",
      "model_name": "DescriptionStyleModel",
      "state": {
       "description_width": ""
      }
     },
     "500eabf8e21b4ae4979fb4d70536121c": {
      "model_module": "@jupyter-widgets/base",
      "model_module_version": "1.2.0",
      "model_name": "LayoutModel",
      "state": {}
     },
     "5141797629184b0fa7d26e2b2149b547": {
      "model_module": "@jupyter-widgets/controls",
      "model_module_version": "1.5.0",
      "model_name": "BoundedFloatTextModel",
      "state": {
       "description": "nu0nu",
       "description_tooltip": "Ratio between hyperviscosity/viscosity at nu (dissipation factor intensity)",
       "layout": "IPY_MODEL_3d44fa4f0bc6485cacd7f48611736e9f",
       "max": 1000000,
       "step": null,
       "style": "IPY_MODEL_bdc9268fc00e48df87f568b7654aac24",
       "value": 4
      }
     },
     "51eeb6fb247441d0a4b76f06678073c4": {
      "model_module": "@jupyter-widgets/controls",
      "model_module_version": "1.5.0",
      "model_name": "HBoxModel",
      "state": {
       "children": [
        "IPY_MODEL_a63a89f1d8574457a3267911cbe4d022",
        "IPY_MODEL_23ef3253621247c79e54e0cb8c5b3a5c",
        "IPY_MODEL_74f894794e2c41108d86b5348ca49d33"
       ],
       "layout": "IPY_MODEL_c0d03af6ce644444bcab43b27a249efb"
      }
     },
     "521ff6f22e8d44cc99ca8223a2f2d299": {
      "model_module": "@jupyter-widgets/controls",
      "model_module_version": "1.5.0",
      "model_name": "DropdownModel",
      "state": {
       "_options_labels": [
        "Off",
        "Forced to zero",
        "Interpolated to zero"
       ],
       "description": "iibm",
       "description_tooltip": "Flag for immersed boundary method (0: No, 1: Yes)",
       "index": 0,
       "layout": "IPY_MODEL_edf008c827f642cc837e42f6d5a1203c",
       "style": "IPY_MODEL_d59407fb6b4c470ebab3f4410a1c4cc3"
      }
     },
     "538f02181eaa499e99386819844b21ff": {
      "model_module": "@jupyter-widgets/controls",
      "model_module_version": "1.5.0",
      "model_name": "DescriptionStyleModel",
      "state": {
       "description_width": ""
      }
     },
     "56c5dc8b1375485399bc3b2d71a640c8": {
      "model_module": "@jupyter-widgets/controls",
      "model_module_version": "1.5.0",
      "model_name": "FloatTextModel",
      "state": {
       "description": "inflow_noise",
       "description_tooltip": "Turbulence intensity (1=100%) !! Inflow condition",
       "layout": "IPY_MODEL_aa082208bc1941ec9ac2ccc8c924d9a5",
       "step": null,
       "style": "IPY_MODEL_2c0b137e40ca47c4829b5862de1f743d"
      }
     },
     "58015c9397ee4395af335c00dcfcfee2": {
      "model_module": "@jupyter-widgets/controls",
      "model_module_version": "1.5.0",
      "model_name": "DropdownModel",
      "state": {
       "_options_labels": [
        "1",
        "2",
        "4",
        "0"
       ],
       "description": "p_col",
       "description_tooltip": "Column partition for domain decomposition and parallel computation",
       "index": 3,
       "layout": "IPY_MODEL_37fac51138d44a7e87d0fff10458c9a5",
       "style": "IPY_MODEL_835aa8e18be0414b9edc258668fd8db5"
      }
     },
     "58712aab97814f9aac058afceb275069": {
      "model_module": "@jupyter-widgets/controls",
      "model_module_version": "1.5.0",
      "model_name": "DescriptionStyleModel",
      "state": {
       "description_width": ""
      }
     },
     "5958bc2256fe40ff9c0deaedba02b252": {
      "model_module": "@jupyter-widgets/controls",
      "model_module_version": "1.5.0",
      "model_name": "DescriptionStyleModel",
      "state": {
       "description_width": ""
      }
     },
     "5a882b2f0fcb4e9fbd8ce97b4caa3fa9": {
      "model_module": "@jupyter-widgets/controls",
      "model_module_version": "1.5.0",
      "model_name": "DropdownModel",
      "state": {
       "_options_labels": [
        "Periodic",
        "No-flux",
        "Dirichlet"
       ],
       "description": "nclzSn",
       "description_tooltip": "Scalar boundary condition where z=zlz",
       "index": 2,
       "layout": "IPY_MODEL_979b3d0c492243019b6bbd47cc9d7a2d",
       "style": "IPY_MODEL_5fa85259863e47c78623f8de2fb9c461"
      }
     },
     "5ae396b700d54d1584a487c8cbfa3cf5": {
      "model_module": "@jupyter-widgets/controls",
      "model_module_version": "1.5.0",
      "model_name": "BoundedFloatTextModel",
      "state": {
       "description": "dz",
       "layout": "IPY_MODEL_37e5333bb52f465085f9f79b5bd56694",
       "max": 1000000,
       "step": null,
       "style": "IPY_MODEL_cb2a1d59173c48ac9799936ea849768b",
       "value": 0.0625
      }
     },
     "5c9b5c77d0904e1aba7a4f33352170d9": {
      "model_module": "@jupyter-widgets/base",
      "model_module_version": "1.2.0",
      "model_name": "LayoutModel",
      "state": {}
     },
     "5fa85259863e47c78623f8de2fb9c461": {
      "model_module": "@jupyter-widgets/controls",
      "model_module_version": "1.5.0",
      "model_name": "DescriptionStyleModel",
      "state": {
       "description_width": ""
      }
     },
     "607467f09ee14b2591dee01de604266d": {
      "model_module": "@jupyter-widgets/controls",
      "model_module_version": "1.5.0",
      "model_name": "DropdownModel",
      "state": {
       "_options_labels": [
        "User",
        "Lock-exchange",
        "Taylor-Green Vortex",
        "Channel",
        "Periodic Hill",
        "Cylinder",
        "Debug Schemes",
        "Mixing Layer",
        "Turbulent Jet",
        "Turbulent Boundary Layer",
        "ABL",
        "Uniform",
        "Sandbox"
       ],
       "description": "itype",
       "description_tooltip": "Flow configuration (1:Lock-exchange, 2:TGV, 3:Channel, and others)",
       "index": 12,
       "layout": "IPY_MODEL_d481579d2a9344f4838c6b7c3e39d1ab",
       "style": "IPY_MODEL_379f23bb857148b698e8939f5dcb3a5a"
      }
     },
     "60b752c55de44843b4f88120ac8ee348": {
      "model_module": "@jupyter-widgets/controls",
      "model_module_version": "1.5.0",
      "model_name": "VBoxModel",
      "state": {
       "children": [
        "IPY_MODEL_86ef274fc1cd49e28ee712957b239586",
        "IPY_MODEL_1e615768c6a64f19b855107aef6d99fe",
        "IPY_MODEL_1e0272cb2a2441c8b63436d028cf2dad",
        "IPY_MODEL_95bfad8c9b4c42539eb04a7e03fae8b5",
        "IPY_MODEL_6ccda31644de4defb40275ccbebea99d",
        "IPY_MODEL_7793bec12b744d3d9f4998b947a4338a",
        "IPY_MODEL_42142cbaed6c4b5a9e0fd18af9c4bf3b",
        "IPY_MODEL_40fe4651e90047078386fd14052431b0",
        "IPY_MODEL_36309f01824943fd8dbefd95b9ed33ee",
        "IPY_MODEL_86edb73f8b524b02bea9f44901ca1276",
        "IPY_MODEL_11bd3075b7ae484b87bd49eb582e2df0",
        "IPY_MODEL_51eeb6fb247441d0a4b76f06678073c4",
        "IPY_MODEL_df62802c11224e96905df948b3148720",
        "IPY_MODEL_c81078da6753456db34e0fa7531a0d46",
        "IPY_MODEL_f7eaa2adbfc9453380ad7b0f9320f803",
        "IPY_MODEL_ccffe2a955a74bb0a07d56a04cee3922",
        "IPY_MODEL_c5fc24f0456b4eaa9a3aaa78bd0e0183",
        "IPY_MODEL_69e3b6f737c94383b0f1adf8e2609dd2",
        "IPY_MODEL_e701aff0508b4e38a027742794f315bd",
        "IPY_MODEL_bfb4d53f942749578fcdc5783006e253",
        "IPY_MODEL_a08ef42ee2b24692ac82428b29fd2329",
        "IPY_MODEL_874a995581c345ff87ba847601cc7c72",
        "IPY_MODEL_afa20e3d21a944309cbeff77e4b90818",
        "IPY_MODEL_fc9991b0d5fc4aee816c8f7d56687962",
        "IPY_MODEL_66efa40448974b69aa489b9b77017129",
        "IPY_MODEL_cdb9c88934274c2cb56afba1798be271",
        "IPY_MODEL_9938facae1c84086b9ae29af9067ea09",
        "IPY_MODEL_ca4cd1ccb9ba43308d38049970f379aa",
        "IPY_MODEL_346385af69b347efba855400f4acacbf",
        "IPY_MODEL_b8ea8a960d884f0dbfaf4f4c799ef095"
       ],
       "layout": "IPY_MODEL_0d60cce4a6514241bc08d4746675f5cd"
      }
     },
     "61666884847d4212bd89ecff32ac8403": {
      "model_module": "@jupyter-widgets/controls",
      "model_module_version": "1.5.0",
      "model_name": "DropdownModel",
      "state": {
       "_options_labels": [
        "Off",
        "On"
       ],
       "description": "ilesmod",
       "description_tooltip": "Enables Large-Eddy methodologies (0: No, 1: Yes)",
       "index": 0,
       "layout": "IPY_MODEL_1b80fbd1b6a54077b56a62ce39d2842e",
       "style": "IPY_MODEL_10daccc0e6cb4a76a6082881e867bb75"
      }
     },
     "62c251249be74bb7a5d0ff31e559ee71": {
      "model_module": "@jupyter-widgets/base",
      "model_module_version": "1.2.0",
      "model_name": "LayoutModel",
      "state": {}
     },
     "6541fd89b24b4169899827b63c47d13f": {
      "model_module": "@jupyter-widgets/controls",
      "model_module_version": "1.5.0",
      "model_name": "DescriptionStyleModel",
      "state": {
       "description_width": ""
      }
     },
     "66713c9d6b2e4b55878bd687e3491ad5": {
      "model_module": "@jupyter-widgets/controls",
      "model_module_version": "1.5.0",
      "model_name": "DescriptionStyleModel",
      "state": {
       "description_width": ""
      }
     },
     "66efa40448974b69aa489b9b77017129": {
      "model_module": "@jupyter-widgets/controls",
      "model_module_version": "1.5.0",
      "model_name": "HBoxModel",
      "state": {
       "children": [
        "IPY_MODEL_c0ba6e3dc9cc424caba79033bb6b940d",
        "IPY_MODEL_b683841fef6e400bac6759ddd3442a2b",
        "IPY_MODEL_e9b0320c0ba5474ca2569fc162e02d05"
       ],
       "layout": "IPY_MODEL_f221420f506b45f88b97eedbfaf55d07"
      }
     },
     "69e3b6f737c94383b0f1adf8e2609dd2": {
      "model_module": "@jupyter-widgets/controls",
      "model_module_version": "1.5.0",
      "model_name": "HBoxModel",
      "state": {
       "children": [
        "IPY_MODEL_0de280c23f3048fd97abb3af21d38270",
        "IPY_MODEL_049024b5d0e9490292899ddbeb7a01b0",
        "IPY_MODEL_a6dcc34c6fa9489089829ab22fdcb0cf"
       ],
       "layout": "IPY_MODEL_efb7e0d6b6ed484b95228874759e847c"
      }
     },
     "6a7f07ac8216425ab136bbed23fd150a": {
      "model_module": "@jupyter-widgets/controls",
      "model_module_version": "1.5.0",
      "model_name": "BoundedFloatTextModel",
      "state": {
       "description": "zlz",
       "description_tooltip": "Size of the box in z-direction",
       "layout": "IPY_MODEL_2a7197aebac4429cad65d8b8fec9e283",
       "max": 1000000000,
       "step": null,
       "style": "IPY_MODEL_c3cd8f0e945b45b19e0be779f1c523ee",
       "value": 1
      }
     },
     "6a9097e3d5ef4e2e978e8175e102c799": {
      "model_module": "@jupyter-widgets/base",
      "model_module_version": "1.2.0",
      "model_name": "LayoutModel",
      "state": {}
     },
     "6cba8df0b2b947fdaf77fd7346ea0d8a": {
      "model_module": "@jupyter-widgets/controls",
      "model_module_version": "1.5.0",
      "model_name": "DescriptionStyleModel",
      "state": {
       "description_width": ""
      }
     },
     "6ccda31644de4defb40275ccbebea99d": {
      "model_module": "@jupyter-widgets/controls",
      "model_module_version": "1.5.0",
      "model_name": "HBoxModel",
      "state": {
       "children": [
        "IPY_MODEL_3be17c4d13e6418c96e7d3619cd4f979",
        "IPY_MODEL_330c5077b2ef4457a744bba4e738877e",
        "IPY_MODEL_56c5dc8b1375485399bc3b2d71a640c8"
       ],
       "layout": "IPY_MODEL_10aafa327e324f619cdadbcd5dc5e89a"
      }
     },
     "6e1d39a0c8c341108c9ce70a528d1335": {
      "model_module": "@jupyter-widgets/controls",
      "model_module_version": "1.5.0",
      "model_name": "DescriptionStyleModel",
      "state": {
       "description_width": ""
      }
     },
     "6ebde3a626844bacaf2faccf12f738f2": {
      "model_module": "@jupyter-widgets/base",
      "model_module_version": "1.2.0",
      "model_name": "LayoutModel",
      "state": {}
     },
     "6f48266c991a472c9915eed9cda3898c": {
      "model_module": "@jupyter-widgets/base",
      "model_module_version": "1.2.0",
      "model_name": "LayoutModel",
      "state": {}
     },
     "708873558f14408f994d2e229e19efa3": {
      "model_module": "@jupyter-widgets/base",
      "model_module_version": "1.2.0",
      "model_name": "LayoutModel",
      "state": {}
     },
     "71a99cbc04b5487888ddae29499f00fe": {
      "model_module": "@jupyter-widgets/controls",
      "model_module_version": "1.5.0",
      "model_name": "DescriptionStyleModel",
      "state": {
       "description_width": ""
      }
     },
     "723c7457c16c45ac97764bbe07c085e1": {
      "model_module": "@jupyter-widgets/base",
      "model_module_version": "1.2.0",
      "model_name": "LayoutModel",
      "state": {}
     },
     "74f894794e2c41108d86b5348ca49d33": {
      "model_module": "@jupyter-widgets/controls",
      "model_module_version": "1.5.0",
      "model_name": "BoundedIntTextModel",
      "state": {
       "description": "iprocessing",
       "description_tooltip": "Frequency for online postprocessing",
       "layout": "IPY_MODEL_a98278f650104217ac13d44fd7d5ba23",
       "max": 1000000000,
       "min": 1,
       "step": 100,
       "style": "IPY_MODEL_e919455dc7db408b9118937e0d5d96ac",
       "value": 1000
      }
     },
     "76567d938fca4533b2bce636c727f52b": {
      "model_module": "@jupyter-widgets/base",
      "model_module_version": "1.2.0",
      "model_name": "LayoutModel",
      "state": {}
     },
     "7793bec12b744d3d9f4998b947a4338a": {
      "model_module": "@jupyter-widgets/controls",
      "model_module_version": "1.5.0",
      "model_name": "HTMLModel",
      "state": {
       "layout": "IPY_MODEL_05f2cded3ed644a1873dfdd4e8c57a73",
       "style": "IPY_MODEL_8ebdb795d8c846f88bb6ceb3fdc83a12",
       "value": "<h3>Domain Decomposition</h3>"
      }
     },
     "782d12afaf1f43dbb173b7653eb14ddd": {
      "model_module": "@jupyter-widgets/controls",
      "model_module_version": "1.5.0",
      "model_name": "BoundedFloatTextModel",
      "state": {
       "description": "beta",
       "description_tooltip": "Refinement parameter",
       "layout": "IPY_MODEL_1c4a2d538f534f0995df7da85089fd07",
       "max": 1000000000,
       "step": null,
       "style": "IPY_MODEL_538f02181eaa499e99386819844b21ff",
       "value": 1
      }
     },
     "7a38e1cf3d104cec80cbcf9934564829": {
      "model_module": "@jupyter-widgets/controls",
      "model_module_version": "1.5.0",
      "model_name": "FloatTextModel",
      "state": {
       "description": "gravx",
       "description_tooltip": "Gravity unitary vector in x-direction",
       "layout": "IPY_MODEL_389f7f549ddb4f4881a7b21adc732525",
       "step": null,
       "style": "IPY_MODEL_37bc5f4a457347e784ba828e4b167755"
      }
     },
     "7abfa57b1c384506bb8d9c4e79cc4fab": {
      "model_module": "@jupyter-widgets/controls",
      "model_module_version": "1.5.0",
      "model_name": "ButtonStyleModel",
      "state": {}
     },
     "7ad5bb85c8354a72aa1568d7eec9b70a": {
      "model_module": "@jupyter-widgets/base",
      "model_module_version": "1.2.0",
      "model_name": "LayoutModel",
      "state": {}
     },
     "7ba39ee800c94caa9c77d8a9f84af2db": {
      "model_module": "@jupyter-widgets/base",
      "model_module_version": "1.2.0",
      "model_name": "LayoutModel",
      "state": {}
     },
     "7bb4fcaeeca940ebb4efd4a97d130ed1": {
      "model_module": "@jupyter-widgets/base",
      "model_module_version": "1.2.0",
      "model_name": "LayoutModel",
      "state": {}
     },
     "7d4ff6b147cb4feba4416324679fbb17": {
      "model_module": "@jupyter-widgets/base",
      "model_module_version": "1.2.0",
      "model_name": "LayoutModel",
      "state": {}
     },
     "7dab99ad36dc410b9298df5513c5bcdc": {
      "model_module": "@jupyter-widgets/base",
      "model_module_version": "1.2.0",
      "model_name": "LayoutModel",
      "state": {}
     },
     "7eaced5f15fa4b288066511e95dbf9c9": {
      "model_module": "@jupyter-widgets/controls",
      "model_module_version": "1.5.0",
      "model_name": "DescriptionStyleModel",
      "state": {
       "description_width": ""
      }
     },
     "7f1eb8f2a82a4c279e458752b2133df4": {
      "model_module": "@jupyter-widgets/controls",
      "model_module_version": "1.5.0",
      "model_name": "DescriptionStyleModel",
      "state": {
       "description_width": ""
      }
     },
     "81bdce06d336415fb7e2d9c0a4c244b8": {
      "model_module": "@jupyter-widgets/controls",
      "model_module_version": "1.5.0",
      "model_name": "DescriptionStyleModel",
      "state": {
       "description_width": ""
      }
     },
     "822186a41a654062aa74d23f3abf0a80": {
      "model_module": "@jupyter-widgets/controls",
      "model_module_version": "1.5.0",
      "model_name": "DescriptionStyleModel",
      "state": {
       "description_width": ""
      }
     },
     "825d125b628f494f8676943d498d9372": {
      "model_module": "@jupyter-widgets/controls",
      "model_module_version": "1.5.0",
      "model_name": "BoundedFloatTextModel",
      "state": {
       "description": "cnu",
       "description_tooltip": "Ratio between hyperviscosity at km=2/3π and kc=π (dissipation factor range)",
       "layout": "IPY_MODEL_e06516dd3df840a2b41cf975a4384b79",
       "max": 1000000,
       "step": null,
       "style": "IPY_MODEL_58712aab97814f9aac058afceb275069",
       "value": 0.44
      }
     },
     "82abcb61660249069541aa11c63d62e3": {
      "model_module": "@jupyter-widgets/base",
      "model_module_version": "1.2.0",
      "model_name": "LayoutModel",
      "state": {}
     },
     "82b7d4c07a014a3f9aae16e4d045395f": {
      "model_module": "@jupyter-widgets/controls",
      "model_module_version": "1.5.0",
      "model_name": "VBoxModel",
      "state": {
       "children": [
        "IPY_MODEL_a7cd4de718b94786b745a21555efb51b"
       ],
       "layout": "IPY_MODEL_f97205738af3433d91d94cb893098982"
      }
     },
     "835aa8e18be0414b9edc258668fd8db5": {
      "model_module": "@jupyter-widgets/controls",
      "model_module_version": "1.5.0",
      "model_name": "DescriptionStyleModel",
      "state": {
       "description_width": ""
      }
     },
     "85d3712243a542b29e736e6b6e7204b0": {
      "model_module": "@jupyter-widgets/controls",
      "model_module_version": "1.5.0",
      "model_name": "DescriptionStyleModel",
      "state": {
       "description_width": ""
      }
     },
     "86edb73f8b524b02bea9f44901ca1276": {
      "model_module": "@jupyter-widgets/controls",
      "model_module_version": "1.5.0",
      "model_name": "HTMLModel",
      "state": {
       "layout": "IPY_MODEL_eb26635f12124aee849f65063e50405b",
       "style": "IPY_MODEL_d3ea062efc4345bab34a2b4dba578a1f",
       "value": "<h3>InOutParam</h3>"
      }
     },
     "86ef274fc1cd49e28ee712957b239586": {
      "model_module": "@jupyter-widgets/controls",
      "model_module_version": "1.5.0",
      "model_name": "HTMLModel",
      "state": {
       "layout": "IPY_MODEL_d0ac08b8b1104a90a1431d293190932e",
       "style": "IPY_MODEL_1064430f947c41688ede2426029a0629",
       "value": "<h1>Xcompact3d Parameters</h1>"
      }
     },
     "874a995581c345ff87ba847601cc7c72": {
      "model_module": "@jupyter-widgets/controls",
      "model_module_version": "1.5.0",
      "model_name": "HBoxModel",
      "state": {
       "children": [
        "IPY_MODEL_61666884847d4212bd89ecff32ac8403",
        "IPY_MODEL_5141797629184b0fa7d26e2b2149b547",
        "IPY_MODEL_825d125b628f494f8676943d498d9372"
       ],
       "layout": "IPY_MODEL_084c5628d4194a6798366ed2bd892009"
      }
     },
     "87c73776cec64ad1b60707fc1d3c2205": {
      "model_module": "@jupyter-widgets/controls",
      "model_module_version": "1.5.0",
      "model_name": "BoundedIntTextModel",
      "state": {
       "description": "nobjmax",
       "description_tooltip": "Maximum number of objects in any direction",
       "layout": "IPY_MODEL_25541005624749ee947063622f157848",
       "max": 1000000000,
       "min": 1,
       "style": "IPY_MODEL_2165d92569ec42df8cdf154f8d6ea971",
       "value": 1
      }
     },
     "89caac40af6d44db8c1627073b700cbb": {
      "model_module": "@jupyter-widgets/controls",
      "model_module_version": "1.5.0",
      "model_name": "DescriptionStyleModel",
      "state": {
       "description_width": ""
      }
     },
     "8a1715fc7b184069bbfa1e3657dcad3e": {
      "model_module": "@jupyter-widgets/controls",
      "model_module_version": "1.5.0",
      "model_name": "DropdownModel",
      "state": {
       "_options_labels": [
        "Periodic",
        "Free-slip",
        "No-slip"
       ],
       "description": "nclz1",
       "description_tooltip": "Velocity boundary condition where z=0",
       "index": 2,
       "layout": "IPY_MODEL_7dab99ad36dc410b9298df5513c5bcdc",
       "style": "IPY_MODEL_2a7aef68bb1049068d2a28f54fdcf27f"
      }
     },
     "8b2b6ae92fca44529946be2cb8740afb": {
      "model_module": "@jupyter-widgets/controls",
      "model_module_version": "1.5.0",
      "model_name": "DescriptionStyleModel",
      "state": {
       "description_width": ""
      }
     },
     "8b9058f25d3d4d4d95ae903b46bb7def": {
      "model_module": "@jupyter-widgets/controls",
      "model_module_version": "1.5.0",
      "model_name": "BoundedFloatTextModel",
      "state": {
       "description": "dy",
       "layout": "IPY_MODEL_3cd1a495230a44a69f313e4cebee17f7",
       "max": 1000000,
       "step": null,
       "style": "IPY_MODEL_6cba8df0b2b947fdaf77fd7346ea0d8a",
       "value": 0.0625
      }
     },
     "8ebdb795d8c846f88bb6ceb3fdc83a12": {
      "model_module": "@jupyter-widgets/controls",
      "model_module_version": "1.5.0",
      "model_name": "DescriptionStyleModel",
      "state": {
       "description_width": ""
      }
     },
     "8ef504aa014946d2af68a7b7aeb34c83": {
      "model_module": "@jupyter-widgets/base",
      "model_module_version": "1.2.0",
      "model_name": "LayoutModel",
      "state": {}
     },
     "92722eb760f74795a2fd0fea78eb4d2d": {
      "model_module": "@jupyter-widgets/base",
      "model_module_version": "1.2.0",
      "model_name": "LayoutModel",
      "state": {}
     },
     "95bfad8c9b4c42539eb04a7e03fae8b5": {
      "model_module": "@jupyter-widgets/controls",
      "model_module_version": "1.5.0",
      "model_name": "HBoxModel",
      "state": {
       "children": [
        "IPY_MODEL_607467f09ee14b2591dee01de604266d",
        "IPY_MODEL_cad81637953a433b9403220f000d135c"
       ],
       "layout": "IPY_MODEL_723c7457c16c45ac97764bbe07c085e1"
      }
     },
     "979b3d0c492243019b6bbd47cc9d7a2d": {
      "model_module": "@jupyter-widgets/base",
      "model_module_version": "1.2.0",
      "model_name": "LayoutModel",
      "state": {}
     },
     "9938facae1c84086b9ae29af9067ea09": {
      "model_module": "@jupyter-widgets/controls",
      "model_module_version": "1.5.0",
      "model_name": "HBoxModel",
      "state": {
       "children": [
        "IPY_MODEL_7a38e1cf3d104cec80cbcf9934564829",
        "IPY_MODEL_a0a34a2ecef041d88978da85cfcd3b8b",
        "IPY_MODEL_e31750f790c342cfaa1eada46a6e8971"
       ],
       "layout": "IPY_MODEL_cb8bd0ad64d54c40be5cd4a019e08332"
      }
     },
     "99c3abc8bd6f49d5a67b7058e54090fa": {
      "model_module": "@jupyter-widgets/controls",
      "model_module_version": "1.5.0",
      "model_name": "BoundedFloatTextModel",
      "state": {
       "description": "yly",
       "description_tooltip": "Size of the box in y-direction",
       "layout": "IPY_MODEL_9a0f326257fe4fa2be93386e96acb17a",
       "max": 1000000000,
       "step": null,
       "style": "IPY_MODEL_71a99cbc04b5487888ddae29499f00fe",
       "value": 1
      }
     },
     "9a0f326257fe4fa2be93386e96acb17a": {
      "model_module": "@jupyter-widgets/base",
      "model_module_version": "1.2.0",
      "model_name": "LayoutModel",
      "state": {}
     },
     "9c2addf77a524c27a4dae05fbde9c860": {
      "model_module": "@jupyter-widgets/controls",
      "model_module_version": "1.5.0",
      "model_name": "TextModel",
      "state": {
       "description": "filename",
       "layout": "IPY_MODEL_7ba39ee800c94caa9c77d8a9f84af2db",
       "style": "IPY_MODEL_f87ab929a1744692b8ec8722af44a5e4",
       "value": "input.i3d"
      }
     },
     "9fa7e86704d94043aa067b829fc0dcec": {
      "model_module": "@jupyter-widgets/base",
      "model_module_version": "1.2.0",
      "model_name": "LayoutModel",
      "state": {}
     },
     "a08ef42ee2b24692ac82428b29fd2329": {
      "model_module": "@jupyter-widgets/controls",
      "model_module_version": "1.5.0",
      "model_name": "HBoxModel",
      "state": {
       "children": [
        "IPY_MODEL_b46d926a0d9e46469d486842c8fb138f",
        "IPY_MODEL_b37f7ecc6ae3432ab38836884114fd62",
        "IPY_MODEL_30732f84a08f4bda93dbfefd340a7b9b"
       ],
       "layout": "IPY_MODEL_1f953fd9925a45e98f92e05f5ecc5ae0"
      }
     },
     "a0a34a2ecef041d88978da85cfcd3b8b": {
      "model_module": "@jupyter-widgets/controls",
      "model_module_version": "1.5.0",
      "model_name": "FloatTextModel",
      "state": {
       "description": "gravy",
       "description_tooltip": "Gravity unitary vector in y-direction",
       "layout": "IPY_MODEL_ee95542c884d40bfbad33786b31bca11",
       "step": null,
       "style": "IPY_MODEL_e618cd7cce6f43e784757ed661ff2bf1"
      }
     },
     "a2549c243c06437db9d9c3d9657a77c9": {
      "model_module": "@jupyter-widgets/controls",
      "model_module_version": "1.5.0",
      "model_name": "ButtonModel",
      "state": {
       "description": "Read",
       "disabled": true,
       "icon": "file-upload",
       "layout": "IPY_MODEL_c4ca7b757171443d8c84d16cc29bb49f",
       "style": "IPY_MODEL_aab59359a5f64af58fe7f994f05c5afe"
      }
     },
     "a28626dda4934048933975b0207e3c60": {
      "model_module": "@jupyter-widgets/base",
      "model_module_version": "1.2.0",
      "model_name": "LayoutModel",
      "state": {}
     },
     "a536eb16080744fca4928ef79dc57529": {
      "model_module": "@jupyter-widgets/controls",
      "model_module_version": "1.5.0",
      "model_name": "DescriptionStyleModel",
      "state": {
       "description_width": ""
      }
     },
     "a62020b0f02847bdbf2e539927caacff": {
      "model_module": "@jupyter-widgets/controls",
      "model_module_version": "1.5.0",
      "model_name": "BoundedIntTextModel",
      "state": {
       "description": "ncores",
       "layout": "IPY_MODEL_17b0c8a94924459c908347df62669715",
       "max": 1000000000,
       "style": "IPY_MODEL_422b51a9211b4418ad2e869641ba4c0d",
       "value": 4
      }
     },
     "a63a89f1d8574457a3267911cbe4d022": {
      "model_module": "@jupyter-widgets/controls",
      "model_module_version": "1.5.0",
      "model_name": "BoundedIntTextModel",
      "state": {
       "description": "icheckpoint",
       "description_tooltip": "Frequency for writing backup file",
       "layout": "IPY_MODEL_d1d34bd4dbc747b5ad6f984f0a2c2afb",
       "max": 1000000000,
       "min": 1,
       "step": 100,
       "style": "IPY_MODEL_8b2b6ae92fca44529946be2cb8740afb",
       "value": 1000
      }
     },
     "a6a425d95c2d4a9f8783818bcb2b777a": {
      "model_module": "@jupyter-widgets/base",
      "model_module_version": "1.2.0",
      "model_name": "LayoutModel",
      "state": {}
     },
     "a6dcc34c6fa9489089829ab22fdcb0cf": {
      "model_module": "@jupyter-widgets/controls",
      "model_module_version": "1.5.0",
      "model_name": "DropdownModel",
      "state": {
       "_options_labels": [
        "Periodic",
        "Free-slip",
        "No-slip"
       ],
       "description": "nclzn",
       "description_tooltip": "Velocity boundary condition where z=zlz",
       "index": 2,
       "layout": "IPY_MODEL_6f48266c991a472c9915eed9cda3898c",
       "style": "IPY_MODEL_05b5651c6ee04fdeb3ecbb9431aac49a"
      }
     },
     "a7ac3158565341b183a7e2595a8d7869": {
      "model_module": "@jupyter-widgets/controls",
      "model_module_version": "1.5.0",
      "model_name": "DescriptionStyleModel",
      "state": {
       "description_width": ""
      }
     },
     "a7cd4de718b94786b745a21555efb51b": {
      "model_module": "@jupyter-widgets/controls",
      "model_module_version": "1.5.0",
      "model_name": "DropdownModel",
      "state": {
       "_options_labels": [
        "9",
        "11",
        "13",
        "17",
        "19",
        "21",
        "25",
        "31",
        "33",
        "37",
        "41",
        "49",
        "51",
        "55",
        "61",
        "65",
        "73",
        "81",
        "91",
        "97",
        "101",
        "109",
        "121",
        "129",
        "145",
        "151",
        "161",
        "163",
        "181",
        "193",
        "201",
        "217",
        "241",
        "251",
        "257",
        "271",
        "289",
        "301",
        "321",
        "325",
        "361",
        "385",
        "401",
        "433",
        "451",
        "481",
        "487",
        "501",
        "513",
        "541",
        "577",
        "601",
        "641",
        "649",
        "721",
        "751",
        "769",
        "801",
        "811",
        "865",
        "901",
        "961",
        "973",
        "1001",
        "1025",
        "1081",
        "1153",
        "1201",
        "1251",
        "1281",
        "1297",
        "1351",
        "1441",
        "1459",
        "1501",
        "1537",
        "1601",
        "1621",
        "1729",
        "1801",
        "1921",
        "1945",
        "2001",
        "2049",
        "2161",
        "2251",
        "2305",
        "2401",
        "2431",
        "2501",
        "2561",
        "2593",
        "2701",
        "2881",
        "2917",
        "3001",
        "3073",
        "3201",
        "3241",
        "3457",
        "3601",
        "3751",
        "3841",
        "3889",
        "4001",
        "4051",
        "4097",
        "4321",
        "4375",
        "4501",
        "4609",
        "4801",
        "4861",
        "5001",
        "5121",
        "5185",
        "5401",
        "5761",
        "5833",
        "6001",
        "6145",
        "6251",
        "6401",
        "6481",
        "6751",
        "6913",
        "7201",
        "7291",
        "7501",
        "7681",
        "7777",
        "8001",
        "8101",
        "8193",
        "8641",
        "8749",
        "9001"
       ],
       "description": "nx",
       "description_tooltip": "X-direction nodes",
       "index": 3,
       "layout": "IPY_MODEL_0e55e49f3fe8433fa12abc2c85e5f5c5",
       "style": "IPY_MODEL_81bdce06d336415fb7e2d9c0a4c244b8"
      }
     },
     "a8a79f4fba0049db806124808910eadd": {
      "model_module": "@jupyter-widgets/controls",
      "model_module_version": "1.5.0",
      "model_name": "DescriptionStyleModel",
      "state": {
       "description_width": ""
      }
     },
     "a98278f650104217ac13d44fd7d5ba23": {
      "model_module": "@jupyter-widgets/base",
      "model_module_version": "1.2.0",
      "model_name": "LayoutModel",
      "state": {}
     },
     "a9eb19e1ac2c4cf3ad8c7a2e5f7757e1": {
      "model_module": "@jupyter-widgets/controls",
      "model_module_version": "1.5.0",
      "model_name": "DescriptionStyleModel",
      "state": {
       "description_width": ""
      }
     },
     "aa082208bc1941ec9ac2ccc8c924d9a5": {
      "model_module": "@jupyter-widgets/base",
      "model_module_version": "1.2.0",
      "model_name": "LayoutModel",
      "state": {}
     },
     "aa49ead022c84fea888c76d965b60245": {
      "model_module": "@jupyter-widgets/base",
      "model_module_version": "1.2.0",
      "model_name": "LayoutModel",
      "state": {}
     },
     "aab59359a5f64af58fe7f994f05c5afe": {
      "model_module": "@jupyter-widgets/controls",
      "model_module_version": "1.5.0",
      "model_name": "ButtonStyleModel",
      "state": {}
     },
     "ab265f92e19c46b3a15cce0e89a49610": {
      "model_module": "@jupyter-widgets/controls",
      "model_module_version": "1.5.0",
      "model_name": "DescriptionStyleModel",
      "state": {
       "description_width": ""
      }
     },
     "ad76801c8ac04494922e0e6903e4a176": {
      "model_module": "@jupyter-widgets/controls",
      "model_module_version": "1.5.0",
      "model_name": "ButtonStyleModel",
      "state": {}
     },
     "adb84a5056f1432bba4b81f624645c33": {
      "model_module": "@jupyter-widgets/controls",
      "model_module_version": "1.5.0",
      "model_name": "DropdownModel",
      "state": {
       "_options_labels": [
        "Periodic",
        "Free-slip",
        "No-slip"
       ],
       "description": "ncly1",
       "description_tooltip": "Velocity boundary condition where y=0",
       "index": 2,
       "layout": "IPY_MODEL_0391420ece174d27bc205b366db17507",
       "style": "IPY_MODEL_a7ac3158565341b183a7e2595a8d7869"
      }
     },
     "afa20e3d21a944309cbeff77e4b90818": {
      "model_module": "@jupyter-widgets/controls",
      "model_module_version": "1.5.0",
      "model_name": "HTMLModel",
      "state": {
       "layout": "IPY_MODEL_e1dd453d1e394b89af821890ebc86f66",
       "style": "IPY_MODEL_2aa408d2f3b141048b1ac95e511bf426",
       "value": "<h2>ScalarParam</h2>"
      }
     },
     "b2408111f69642b097006c4f02b40ca6": {
      "model_module": "@jupyter-widgets/controls",
      "model_module_version": "1.5.0",
      "model_name": "DropdownModel",
      "state": {
       "_options_labels": [
        "Off",
        "On"
       ],
       "description": "irestart",
       "description_tooltip": "Read initial flow field (0: No, 1: Yes)",
       "index": 0,
       "layout": "IPY_MODEL_8ef504aa014946d2af68a7b7aeb34c83",
       "style": "IPY_MODEL_c26c88f66faf4b26b165236d96ad9635"
      }
     },
     "b37f7ecc6ae3432ab38836884114fd62": {
      "model_module": "@jupyter-widgets/controls",
      "model_module_version": "1.5.0",
      "model_name": "DropdownModel",
      "state": {
       "_options_labels": [
        "6th compact",
        "hyperviscous 6th"
       ],
       "description": "isecondder",
       "description_tooltip": "Scheme for first order derivative",
       "disabled": true,
       "index": 0,
       "layout": "IPY_MODEL_dec5f6e6c81c4b7f96b0ab30f0869c85",
       "style": "IPY_MODEL_04ef7aed9f034871b2dd97eae7beaf93"
      }
     },
     "b46d926a0d9e46469d486842c8fb138f": {
      "model_module": "@jupyter-widgets/controls",
      "model_module_version": "1.5.0",
      "model_name": "DropdownModel",
      "state": {
       "_options_labels": [
        "2nd central",
        "4th central",
        "4th compact",
        "6th compact"
       ],
       "description": "ifirstder",
       "index": 3,
       "layout": "IPY_MODEL_a28626dda4934048933975b0207e3c60",
       "style": "IPY_MODEL_b691eed9c40a4d458cca26c33c3dfbbf"
      }
     },
     "b61048c076d041d3a828b8d82bedf84b": {
      "model_module": "@jupyter-widgets/controls",
      "model_module_version": "1.5.0",
      "model_name": "DescriptionStyleModel",
      "state": {
       "description_width": ""
      }
     },
     "b683841fef6e400bac6759ddd3442a2b": {
      "model_module": "@jupyter-widgets/controls",
      "model_module_version": "1.5.0",
      "model_name": "DropdownModel",
      "state": {
       "_options_labels": [
        "Periodic",
        "No-flux",
        "Dirichlet"
       ],
       "description": "nclyS1",
       "description_tooltip": "Scalar boundary condition where y=0",
       "index": 2,
       "layout": "IPY_MODEL_f614c38998094ccc9abf3ca7f81f6645",
       "style": "IPY_MODEL_b61048c076d041d3a828b8d82bedf84b"
      }
     },
     "b691eed9c40a4d458cca26c33c3dfbbf": {
      "model_module": "@jupyter-widgets/controls",
      "model_module_version": "1.5.0",
      "model_name": "DescriptionStyleModel",
      "state": {
       "description_width": ""
      }
     },
     "b8ea8a960d884f0dbfaf4f4c799ef095": {
      "model_module": "@jupyter-widgets/controls",
      "model_module_version": "1.5.0",
      "model_name": "HBoxModel",
      "state": {
       "children": [
        "IPY_MODEL_521ff6f22e8d44cc99ca8223a2f2d299",
        "IPY_MODEL_0acadf726eeb4806950580399e3d84f0",
        "IPY_MODEL_87c73776cec64ad1b60707fc1d3c2205"
       ],
       "layout": "IPY_MODEL_76567d938fca4533b2bce636c727f52b"
      }
     },
     "b94b81b7c8fd4e6292655174c25fd398": {
      "model_module": "@jupyter-widgets/base",
      "model_module_version": "1.2.0",
      "model_name": "LayoutModel",
      "state": {}
     },
     "ba012519863b4b9b9578077f6394c7d1": {
      "model_module": "@jupyter-widgets/base",
      "model_module_version": "1.2.0",
      "model_name": "LayoutModel",
      "state": {}
     },
     "bb604f10ec2f4e7a95f7672eb224bf8d": {
      "model_module": "@jupyter-widgets/controls",
      "model_module_version": "1.5.0",
      "model_name": "DescriptionStyleModel",
      "state": {
       "description_width": ""
      }
     },
     "bcc45f71e5e94740b2471d4283672197": {
      "model_module": "@jupyter-widgets/controls",
      "model_module_version": "1.5.0",
      "model_name": "DescriptionStyleModel",
      "state": {
       "description_width": ""
      }
     },
     "bd55dbc45baa4c82870b7b21878fcb12": {
      "model_module": "@jupyter-widgets/controls",
      "model_module_version": "1.5.0",
      "model_name": "DescriptionStyleModel",
      "state": {
       "description_width": ""
      }
     },
     "bdc9268fc00e48df87f568b7654aac24": {
      "model_module": "@jupyter-widgets/controls",
      "model_module_version": "1.5.0",
      "model_name": "DescriptionStyleModel",
      "state": {
       "description_width": ""
      }
     },
     "be3e6e0793ab4f729a72ab6601a5cfc6": {
      "model_module": "@jupyter-widgets/controls",
      "model_module_version": "1.5.0",
      "model_name": "ButtonModel",
      "state": {
       "description": "Sync",
       "disabled": true,
       "icon": "sync",
       "layout": "IPY_MODEL_35cebe6f89bd4c95bf7f957bf406e498",
       "style": "IPY_MODEL_c045ed2c51c842858010656acd484942"
      }
     },
     "be4b05a778ea47e9931b597ba5397906": {
      "model_module": "@jupyter-widgets/controls",
      "model_module_version": "1.5.0",
      "model_name": "DropdownModel",
      "state": {
       "_options_labels": [
        "No refinement",
        "Refinement at the center",
        "Both sides",
        "Just near the bottom"
       ],
       "description": "istret",
       "description_tooltip": "y mesh refinement (0:no, 1:center, 2:both sides, 3:bottom)",
       "index": 0,
       "layout": "IPY_MODEL_c5b24d8a089f431fb4079cc63c0d9ccf",
       "style": "IPY_MODEL_11a3074c8faf4dce895358fdc83370a3"
      }
     },
     "bfb4d53f942749578fcdc5783006e253": {
      "model_module": "@jupyter-widgets/controls",
      "model_module_version": "1.5.0",
      "model_name": "HTMLModel",
      "state": {
       "layout": "IPY_MODEL_1160b790683f4d0cab3cd0b4fe95f445",
       "style": "IPY_MODEL_3409b771bc204669bdf0caa568da202a",
       "value": "<h2>NumOptions</h2>"
      }
     },
     "bfe1134576974610ba800d40156d0ac3": {
      "model_module": "@jupyter-widgets/base",
      "model_module_version": "1.2.0",
      "model_name": "LayoutModel",
      "state": {}
     },
     "c045ed2c51c842858010656acd484942": {
      "model_module": "@jupyter-widgets/controls",
      "model_module_version": "1.5.0",
      "model_name": "ButtonStyleModel",
      "state": {}
     },
     "c049feaabcf3408ab869e1357073e4ee": {
      "model_module": "@jupyter-widgets/controls",
      "model_module_version": "1.5.0",
      "model_name": "DescriptionStyleModel",
      "state": {
       "description_width": ""
      }
     },
     "c04f5ebb381a49c6a606b9593e1d333b": {
      "model_module": "@jupyter-widgets/base",
      "model_module_version": "1.2.0",
      "model_name": "LayoutModel",
      "state": {}
     },
     "c0ba6e3dc9cc424caba79033bb6b940d": {
      "model_module": "@jupyter-widgets/controls",
      "model_module_version": "1.5.0",
      "model_name": "DropdownModel",
      "state": {
       "_options_labels": [
        "Periodic",
        "No-flux",
        "Dirichlet"
       ],
       "description": "nclxS1",
       "description_tooltip": "Scalar boundary condition where x=0",
       "index": 2,
       "layout": "IPY_MODEL_4ca48b3a7c104d68b84621ff83b6a96d",
       "style": "IPY_MODEL_bb604f10ec2f4e7a95f7672eb224bf8d"
      }
     },
     "c0d03af6ce644444bcab43b27a249efb": {
      "model_module": "@jupyter-widgets/base",
      "model_module_version": "1.2.0",
      "model_name": "LayoutModel",
      "state": {}
     },
     "c22c6dd428e94d4ba99d5ac09c4ce6ca": {
      "model_module": "@jupyter-widgets/controls",
      "model_module_version": "1.5.0",
      "model_name": "DescriptionStyleModel",
      "state": {
       "description_width": ""
      }
     },
     "c26c88f66faf4b26b165236d96ad9635": {
      "model_module": "@jupyter-widgets/controls",
      "model_module_version": "1.5.0",
      "model_name": "DescriptionStyleModel",
      "state": {
       "description_width": ""
      }
     },
     "c37e0d30f0644d1aae61a704e7ca31f1": {
      "model_module": "@jupyter-widgets/controls",
      "model_module_version": "1.5.0",
      "model_name": "BoundedFloatTextModel",
      "state": {
       "description": "xlx",
       "description_tooltip": "Size of the box in x-direction",
       "layout": "IPY_MODEL_aa49ead022c84fea888c76d965b60245",
       "max": 1000000000,
       "step": null,
       "style": "IPY_MODEL_85d3712243a542b29e736e6b6e7204b0",
       "value": 1
      }
     },
     "c3cd8f0e945b45b19e0be779f1c523ee": {
      "model_module": "@jupyter-widgets/controls",
      "model_module_version": "1.5.0",
      "model_name": "DescriptionStyleModel",
      "state": {
       "description_width": ""
      }
     },
     "c3f9232c0b9843cbbd6dd8c44084797e": {
      "model_module": "@jupyter-widgets/base",
      "model_module_version": "1.2.0",
      "model_name": "LayoutModel",
      "state": {}
     },
     "c4ca7b757171443d8c84d16cc29bb49f": {
      "model_module": "@jupyter-widgets/base",
      "model_module_version": "1.2.0",
      "model_name": "LayoutModel",
      "state": {}
     },
     "c5b24d8a089f431fb4079cc63c0d9ccf": {
      "model_module": "@jupyter-widgets/base",
      "model_module_version": "1.2.0",
      "model_name": "LayoutModel",
      "state": {}
     },
     "c5fc24f0456b4eaa9a3aaa78bd0e0183": {
      "model_module": "@jupyter-widgets/controls",
      "model_module_version": "1.5.0",
      "model_name": "HBoxModel",
      "state": {
       "children": [
        "IPY_MODEL_30e5fea3f85345bea320fb3e46a5d8a6",
        "IPY_MODEL_adb84a5056f1432bba4b81f624645c33",
        "IPY_MODEL_8a1715fc7b184069bbfa1e3657dcad3e"
       ],
       "layout": "IPY_MODEL_1eb056ece6f842729a78a1d1169a1cf1"
      }
     },
     "c6177904a34a41b7ae46a15bef8f99b1": {
      "model_module": "@jupyter-widgets/controls",
      "model_module_version": "1.5.0",
      "model_name": "DescriptionStyleModel",
      "state": {
       "description_width": ""
      }
     },
     "c6c73e9dfd414aa4ae6657778e284c84": {
      "model_module": "@jupyter-widgets/controls",
      "model_module_version": "1.5.0",
      "model_name": "DescriptionStyleModel",
      "state": {
       "description_width": ""
      }
     },
     "c7e6267b7530407e821397dc4a99b125": {
      "model_module": "@jupyter-widgets/controls",
      "model_module_version": "1.5.0",
      "model_name": "DescriptionStyleModel",
      "state": {
       "description_width": ""
      }
     },
     "c81078da6753456db34e0fa7531a0d46": {
      "model_module": "@jupyter-widgets/controls",
      "model_module_version": "1.5.0",
      "model_name": "HBoxModel",
      "state": {
       "children": [
        "IPY_MODEL_a7cd4de718b94786b745a21555efb51b",
        "IPY_MODEL_f2645cee413b4c29b72e74b1714f9564",
        "IPY_MODEL_159eaced52ed45ab9a81946bbd56e29e"
       ],
       "layout": "IPY_MODEL_d2ecabb721c04e558b8add3c89594585"
      }
     },
     "c9f68c17a0a343e39b0c9f77b157dce2": {
      "model_module": "@jupyter-widgets/controls",
      "model_module_version": "1.5.0",
      "model_name": "BoundedIntTextModel",
      "state": {
       "description": "ifirst",
       "description_tooltip": "The number for the first iteration",
       "layout": "IPY_MODEL_0e91b08a8c12438ca174a07fb18bb27e",
       "max": 1000000000,
       "style": "IPY_MODEL_6541fd89b24b4169899827b63c47d13f"
      }
     },
     "ca4cd1ccb9ba43308d38049970f379aa": {
      "model_module": "@jupyter-widgets/controls",
      "model_module_version": "1.5.0",
      "model_name": "HTMLModel",
      "state": {
       "layout": "IPY_MODEL_500eabf8e21b4ae4979fb4d70536121c",
       "style": "IPY_MODEL_c7e6267b7530407e821397dc4a99b125",
       "value": "<strong>cp, us, sc, ri, scalar_lbound & scalar_ubound</strong> are lists with length numscalar, set them properly on the code."
      }
     },
     "cad81637953a433b9403220f000d135c": {
      "model_module": "@jupyter-widgets/controls",
      "model_module_version": "1.5.0",
      "model_name": "FloatTextModel",
      "state": {
       "description": "re",
       "description_tooltip": "Reynolds number",
       "layout": "IPY_MODEL_7d4ff6b147cb4feba4416324679fbb17",
       "step": null,
       "style": "IPY_MODEL_a8a79f4fba0049db806124808910eadd",
       "value": 1000
      }
     },
     "cb2a1d59173c48ac9799936ea849768b": {
      "model_module": "@jupyter-widgets/controls",
      "model_module_version": "1.5.0",
      "model_name": "DescriptionStyleModel",
      "state": {
       "description_width": ""
      }
     },
     "cb76ce58ba3447089103d5a23ac831b4": {
      "model_module": "@jupyter-widgets/base",
      "model_module_version": "1.2.0",
      "model_name": "LayoutModel",
      "state": {}
     },
     "cb8bd0ad64d54c40be5cd4a019e08332": {
      "model_module": "@jupyter-widgets/base",
      "model_module_version": "1.2.0",
      "model_name": "LayoutModel",
      "state": {}
     },
     "ccffe2a955a74bb0a07d56a04cee3922": {
      "model_module": "@jupyter-widgets/controls",
      "model_module_version": "1.5.0",
      "model_name": "HBoxModel",
      "state": {
       "children": [
        "IPY_MODEL_317d3303f9e34077aa32c83465ac4d0e",
        "IPY_MODEL_8b9058f25d3d4d4d95ae903b46bb7def",
        "IPY_MODEL_5ae396b700d54d1584a487c8cbfa3cf5"
       ],
       "layout": "IPY_MODEL_e29a2ae745e94e828a752fb49240549d"
      }
     },
     "cdb9c88934274c2cb56afba1798be271": {
      "model_module": "@jupyter-widgets/controls",
      "model_module_version": "1.5.0",
      "model_name": "HBoxModel",
      "state": {
       "children": [
        "IPY_MODEL_0a087f17bf294318ade98c389780f5be",
        "IPY_MODEL_48b6d32f009a4f0abf17b255c2a6c63e",
        "IPY_MODEL_5a882b2f0fcb4e9fbd8ce97b4caa3fa9"
       ],
       "layout": "IPY_MODEL_9fa7e86704d94043aa067b829fc0dcec"
      }
     },
     "cf666ac5cd584eb98d767128822b79df": {
      "model_module": "@jupyter-widgets/base",
      "model_module_version": "1.2.0",
      "model_name": "LayoutModel",
      "state": {}
     },
     "d0ac08b8b1104a90a1431d293190932e": {
      "model_module": "@jupyter-widgets/base",
      "model_module_version": "1.2.0",
      "model_name": "LayoutModel",
      "state": {}
     },
     "d1d34bd4dbc747b5ad6f984f0a2c2afb": {
      "model_module": "@jupyter-widgets/base",
      "model_module_version": "1.2.0",
      "model_name": "LayoutModel",
      "state": {}
     },
     "d2e0912d3f9a46fcbfaa1adf315d6870": {
      "model_module": "@jupyter-widgets/base",
      "model_module_version": "1.2.0",
      "model_name": "LayoutModel",
      "state": {}
     },
     "d2ecabb721c04e558b8add3c89594585": {
      "model_module": "@jupyter-widgets/base",
      "model_module_version": "1.2.0",
      "model_name": "LayoutModel",
      "state": {}
     },
     "d3ea062efc4345bab34a2b4dba578a1f": {
      "model_module": "@jupyter-widgets/controls",
      "model_module_version": "1.5.0",
      "model_name": "DescriptionStyleModel",
      "state": {
       "description_width": ""
      }
     },
     "d481579d2a9344f4838c6b7c3e39d1ab": {
      "model_module": "@jupyter-widgets/base",
      "model_module_version": "1.2.0",
      "model_name": "LayoutModel",
      "state": {}
     },
     "d48cbef374c64e6596f1d55e03f947d9": {
      "model_module": "@jupyter-widgets/controls",
      "model_module_version": "1.5.0",
      "model_name": "DropdownModel",
      "state": {
       "_options_labels": [
        "1",
        "2",
        "4",
        "0"
       ],
       "description": "p_row",
       "description_tooltip": "Row partition for domain decomposition and parallel computation",
       "index": 3,
       "layout": "IPY_MODEL_6ebde3a626844bacaf2faccf12f738f2",
       "style": "IPY_MODEL_bd55dbc45baa4c82870b7b21878fcb12"
      }
     },
     "d59407fb6b4c470ebab3f4410a1c4cc3": {
      "model_module": "@jupyter-widgets/controls",
      "model_module_version": "1.5.0",
      "model_name": "DescriptionStyleModel",
      "state": {
       "description_width": ""
      }
     },
     "d688cc616ad04b1fb84b62eb6b0dcb4e": {
      "model_module": "@jupyter-widgets/controls",
      "model_module_version": "1.5.0",
      "model_name": "DescriptionStyleModel",
      "state": {
       "description_width": ""
      }
     },
     "d6dfbb3e85094b76836ca14438cbc583": {
      "model_module": "@jupyter-widgets/controls",
      "model_module_version": "1.5.0",
      "model_name": "DescriptionStyleModel",
      "state": {
       "description_width": ""
      }
     },
     "d8ea7a41dbd64c60a67209dfa15c247a": {
      "model_module": "@jupyter-widgets/controls",
      "model_module_version": "1.5.0",
      "model_name": "TextModel",
      "state": {
       "description": "size",
       "disabled": true,
       "layout": "IPY_MODEL_21ed77de852a4c99817d70dc9118e716",
       "style": "IPY_MODEL_c6c73e9dfd414aa4ae6657778e284c84",
       "value": "-196520.0 bytes"
      }
     },
     "ddb076027d88424cb9494f02162b2317": {
      "model_module": "@jupyter-widgets/controls",
      "model_module_version": "1.5.0",
      "model_name": "DescriptionStyleModel",
      "state": {
       "description_width": ""
      }
     },
     "dec5f6e6c81c4b7f96b0ab30f0869c85": {
      "model_module": "@jupyter-widgets/base",
      "model_module_version": "1.2.0",
      "model_name": "LayoutModel",
      "state": {}
     },
     "df62802c11224e96905df948b3148720": {
      "model_module": "@jupyter-widgets/controls",
      "model_module_version": "1.5.0",
      "model_name": "HTMLModel",
      "state": {
       "layout": "IPY_MODEL_1aa57dbda5084118951b456dd9b2d81c",
       "style": "IPY_MODEL_ddb076027d88424cb9494f02162b2317",
       "value": "<h3>Spatial discretization</h3>"
      }
     },
     "dfb45b32c62c4a1c81a61aece03e6093": {
      "model_module": "@jupyter-widgets/base",
      "model_module_version": "1.2.0",
      "model_name": "LayoutModel",
      "state": {}
     },
     "e06516dd3df840a2b41cf975a4384b79": {
      "model_module": "@jupyter-widgets/base",
      "model_module_version": "1.2.0",
      "model_name": "LayoutModel",
      "state": {}
     },
     "e0ea33aa3afc40ca836140eea670aaf0": {
      "model_module": "@jupyter-widgets/base",
      "model_module_version": "1.2.0",
      "model_name": "LayoutModel",
      "state": {}
     },
     "e1dd453d1e394b89af821890ebc86f66": {
      "model_module": "@jupyter-widgets/base",
      "model_module_version": "1.2.0",
      "model_name": "LayoutModel",
      "state": {}
     },
     "e29a2ae745e94e828a752fb49240549d": {
      "model_module": "@jupyter-widgets/base",
      "model_module_version": "1.2.0",
      "model_name": "LayoutModel",
      "state": {}
     },
     "e31750f790c342cfaa1eada46a6e8971": {
      "model_module": "@jupyter-widgets/controls",
      "model_module_version": "1.5.0",
      "model_name": "FloatTextModel",
      "state": {
       "description": "gravz",
       "description_tooltip": "Gravity unitary vector in z-direction",
       "layout": "IPY_MODEL_c04f5ebb381a49c6a606b9593e1d333b",
       "step": null,
       "style": "IPY_MODEL_c049feaabcf3408ab869e1357073e4ee"
      }
     },
     "e51e6c4f10084c2b87806986523267fb": {
      "model_module": "@jupyter-widgets/controls",
      "model_module_version": "1.5.0",
      "model_name": "DropdownModel",
      "state": {
       "_options_labels": [
        "Off",
        "On"
       ],
       "description": "ipost",
       "description_tooltip": "Enables online postprocessing at a frequency iprocessing (0: No, 1: Yes)",
       "index": 0,
       "layout": "IPY_MODEL_0340223fe30d484892b21e9334b0aebd",
       "style": "IPY_MODEL_c22c6dd428e94d4ba99d5ac09c4ce6ca"
      }
     },
     "e618cd7cce6f43e784757ed661ff2bf1": {
      "model_module": "@jupyter-widgets/controls",
      "model_module_version": "1.5.0",
      "model_name": "DescriptionStyleModel",
      "state": {
       "description_width": ""
      }
     },
     "e701aff0508b4e38a027742794f315bd": {
      "model_module": "@jupyter-widgets/controls",
      "model_module_version": "1.5.0",
      "model_name": "HBoxModel",
      "state": {
       "children": [
        "IPY_MODEL_be4b05a778ea47e9931b597ba5397906",
        "IPY_MODEL_782d12afaf1f43dbb173b7653eb14ddd"
       ],
       "layout": "IPY_MODEL_62c251249be74bb7a5d0ff31e559ee71"
      }
     },
     "e919455dc7db408b9118937e0d5d96ac": {
      "model_module": "@jupyter-widgets/controls",
      "model_module_version": "1.5.0",
      "model_name": "DescriptionStyleModel",
      "state": {
       "description_width": ""
      }
     },
     "e9b0320c0ba5474ca2569fc162e02d05": {
      "model_module": "@jupyter-widgets/controls",
      "model_module_version": "1.5.0",
      "model_name": "DropdownModel",
      "state": {
       "_options_labels": [
        "Periodic",
        "No-flux",
        "Dirichlet"
       ],
       "description": "nclzS1",
       "description_tooltip": "Scalar boundary condition where z=0",
       "index": 2,
       "layout": "IPY_MODEL_d2e0912d3f9a46fcbfaa1adf315d6870",
       "style": "IPY_MODEL_4f244c334bd5468e80d4f6ab423e1192"
      }
     },
     "ea19246a7a9845b99dd42f915f0e672c": {
      "model_module": "@jupyter-widgets/controls",
      "model_module_version": "1.5.0",
      "model_name": "SliderStyleModel",
      "state": {
       "description_width": ""
      }
     },
     "eabde9b4ac504db5832e15be4f47d904": {
      "model_module": "@jupyter-widgets/base",
      "model_module_version": "1.2.0",
      "model_name": "LayoutModel",
      "state": {}
     },
     "eb26635f12124aee849f65063e50405b": {
      "model_module": "@jupyter-widgets/base",
      "model_module_version": "1.2.0",
      "model_name": "LayoutModel",
      "state": {}
     },
     "ecd43b4e4a6f40739b7eb213e2875d68": {
      "model_module": "@jupyter-widgets/base",
      "model_module_version": "1.2.0",
      "model_name": "LayoutModel",
      "state": {}
     },
     "edcc1d29263449a5b725bd4e2591e9df": {
      "model_module": "@jupyter-widgets/base",
      "model_module_version": "1.2.0",
      "model_name": "LayoutModel",
      "state": {}
     },
     "edf008c827f642cc837e42f6d5a1203c": {
      "model_module": "@jupyter-widgets/base",
      "model_module_version": "1.2.0",
      "model_name": "LayoutModel",
      "state": {}
     },
     "ee95542c884d40bfbad33786b31bca11": {
      "model_module": "@jupyter-widgets/base",
      "model_module_version": "1.2.0",
      "model_name": "LayoutModel",
      "state": {}
     },
     "eea49cafd1814dfe8583cbcdaed78045": {
      "model_module": "@jupyter-widgets/base",
      "model_module_version": "1.2.0",
      "model_name": "LayoutModel",
      "state": {}
     },
     "efb7e0d6b6ed484b95228874759e847c": {
      "model_module": "@jupyter-widgets/base",
      "model_module_version": "1.2.0",
      "model_name": "LayoutModel",
      "state": {}
     },
     "f221420f506b45f88b97eedbfaf55d07": {
      "model_module": "@jupyter-widgets/base",
      "model_module_version": "1.2.0",
      "model_name": "LayoutModel",
      "state": {}
     },
     "f2645cee413b4c29b72e74b1714f9564": {
      "model_module": "@jupyter-widgets/controls",
      "model_module_version": "1.5.0",
      "model_name": "DropdownModel",
      "state": {
       "_options_labels": [
        "9",
        "11",
        "13",
        "17",
        "19",
        "21",
        "25",
        "31",
        "33",
        "37",
        "41",
        "49",
        "51",
        "55",
        "61",
        "65",
        "73",
        "81",
        "91",
        "97",
        "101",
        "109",
        "121",
        "129",
        "145",
        "151",
        "161",
        "163",
        "181",
        "193",
        "201",
        "217",
        "241",
        "251",
        "257",
        "271",
        "289",
        "301",
        "321",
        "325",
        "361",
        "385",
        "401",
        "433",
        "451",
        "481",
        "487",
        "501",
        "513",
        "541",
        "577",
        "601",
        "641",
        "649",
        "721",
        "751",
        "769",
        "801",
        "811",
        "865",
        "901",
        "961",
        "973",
        "1001",
        "1025",
        "1081",
        "1153",
        "1201",
        "1251",
        "1281",
        "1297",
        "1351",
        "1441",
        "1459",
        "1501",
        "1537",
        "1601",
        "1621",
        "1729",
        "1801",
        "1921",
        "1945",
        "2001",
        "2049",
        "2161",
        "2251",
        "2305",
        "2401",
        "2431",
        "2501",
        "2561",
        "2593",
        "2701",
        "2881",
        "2917",
        "3001",
        "3073",
        "3201",
        "3241",
        "3457",
        "3601",
        "3751",
        "3841",
        "3889",
        "4001",
        "4051",
        "4097",
        "4321",
        "4375",
        "4501",
        "4609",
        "4801",
        "4861",
        "5001",
        "5121",
        "5185",
        "5401",
        "5761",
        "5833",
        "6001",
        "6145",
        "6251",
        "6401",
        "6481",
        "6751",
        "6913",
        "7201",
        "7291",
        "7501",
        "7681",
        "7777",
        "8001",
        "8101",
        "8193",
        "8641",
        "8749",
        "9001"
       ],
       "description": "ny",
       "description_tooltip": "Y-direction nodes",
       "index": 3,
       "layout": "IPY_MODEL_e0ea33aa3afc40ca836140eea670aaf0",
       "style": "IPY_MODEL_bcc45f71e5e94740b2471d4283672197"
      }
     },
     "f5a99efb5ec043aabcc06ff9f1d87c0d": {
      "model_module": "@jupyter-widgets/controls",
      "model_module_version": "1.5.0",
      "model_name": "DescriptionStyleModel",
      "state": {
       "description_width": ""
      }
     },
     "f614c38998094ccc9abf3ca7f81f6645": {
      "model_module": "@jupyter-widgets/base",
      "model_module_version": "1.2.0",
      "model_name": "LayoutModel",
      "state": {}
     },
     "f7eaa2adbfc9453380ad7b0f9320f803": {
      "model_module": "@jupyter-widgets/controls",
      "model_module_version": "1.5.0",
      "model_name": "HBoxModel",
      "state": {
       "children": [
        "IPY_MODEL_c37e0d30f0644d1aae61a704e7ca31f1",
        "IPY_MODEL_99c3abc8bd6f49d5a67b7058e54090fa",
        "IPY_MODEL_6a7f07ac8216425ab136bbed23fd150a"
       ],
       "layout": "IPY_MODEL_7ad5bb85c8354a72aa1568d7eec9b70a"
      }
     },
     "f87ab929a1744692b8ec8722af44a5e4": {
      "model_module": "@jupyter-widgets/controls",
      "model_module_version": "1.5.0",
      "model_name": "DescriptionStyleModel",
      "state": {
       "description_width": ""
      }
     },
     "f97205738af3433d91d94cb893098982": {
      "model_module": "@jupyter-widgets/base",
      "model_module_version": "1.2.0",
      "model_name": "LayoutModel",
      "state": {}
     },
     "fb3a3bf61b0840739b74ae7f8978f572": {
      "model_module": "@jupyter-widgets/controls",
      "model_module_version": "1.5.0",
      "model_name": "SliderStyleModel",
      "state": {
       "description_width": ""
      }
     },
     "fc9991b0d5fc4aee816c8f7d56687962": {
      "model_module": "@jupyter-widgets/controls",
      "model_module_version": "1.5.0",
      "model_name": "HBoxModel",
      "state": {
       "children": [
        "IPY_MODEL_ff0101e31afc44548499f58e07eaa024"
       ],
       "layout": "IPY_MODEL_21c5fab946a44c4ca7868087dba946da"
      }
     },
     "ff0101e31afc44548499f58e07eaa024": {
      "model_module": "@jupyter-widgets/controls",
      "model_module_version": "1.5.0",
      "model_name": "IntSliderModel",
      "state": {
       "continuous_update": false,
       "description": "numscalar",
       "description_tooltip": "Number of scalar fractions",
       "layout": "IPY_MODEL_058f8eeb578740c2949de722a9a783a2",
       "max": 9,
       "style": "IPY_MODEL_ea19246a7a9845b99dd42f915f0e672c"
      }
     },
     "ff3fe5a18e4f495eb9024431c194f889": {
      "model_module": "@jupyter-widgets/base",
      "model_module_version": "1.2.0",
      "model_name": "LayoutModel",
      "state": {}
     },
     "ff743bbe1aad4eb08eb6e0b82f21566b": {
      "model_module": "@jupyter-widgets/base",
      "model_module_version": "1.2.0",
      "model_name": "LayoutModel",
      "state": {}
     }
    },
    "version_major": 2,
    "version_minor": 0
   }
  },
  "interpreter": {
   "hash": "546d5beeb22119d9a20f6c19239ae627cc2b69f70be285d1d696980c89f3c939"
  }
 },
 "nbformat": 4,
 "nbformat_minor": 4
}