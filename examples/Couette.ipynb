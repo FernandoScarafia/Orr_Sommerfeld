{
 "cells": [
  {
   "cell_type": "code",
   "execution_count": 1,
   "id": "cbce949a-c66d-4455-9d39-f132f45efaab",
   "metadata": {},
   "outputs": [],
   "source": [
    "from Orr_Sommerfeld import OS\n",
    "import numpy as np\n",
    "import matplotlib\n",
    "import matplotlib.pyplot as plt\n",
    "matplotlib.rcParams['text.usetex'] = True \n",
    "%matplotlib inline"
   ]
  },
  {
   "cell_type": "markdown",
   "id": "4ed7d5f1-4e85-4c53-bbb3-8ebd76d8328f",
   "metadata": {},
   "source": [
    "# Couette Flow\n",
    "\\begin{align*}\n",
    "U(y)=1-y^2\n",
    "\\end{align*}"
   ]
  },
  {
   "cell_type": "code",
   "execution_count": 2,
   "id": "4acd4c54-1c9e-4240-83a4-b9dbb5165015",
   "metadata": {},
   "outputs": [],
   "source": [
    "#lampb0=np.loadtxt('validacion/Pob0.txt')\n",
    "#lampb1=np.loadtxt('validacion/Pob1.txt')\n",
    "\n",
    "lamcb0=np.loadtxt('validacion/Couetteb0.txt')\n",
    "lamcb1=np.loadtxt('validacion/Couetteb1.txt')"
   ]
  },
  {
   "cell_type": "code",
   "execution_count": 5,
   "id": "05e9d235-e714-483d-95ce-939051a2de30",
   "metadata": {},
   "outputs": [],
   "source": [
    "N=100\n",
    "R=800\n",
    "alp=1\n",
    "b=0\n",
    "n3d=2\n",
    "n2d=0\n",
    "Np=1 # couette\n",
    "_,y=OS.cheb(N)\n",
    "y=y[1:-1]"
   ]
  },
  {
   "cell_type": "code",
   "execution_count": 7,
   "id": "7ad8f155-2428-4775-81b2-b3949c9c53c8",
   "metadata": {},
   "outputs": [],
   "source": [
    "lamc,_,_,_=OS.Orr_Sommerfeld_Temporal(N,R,alp,0,n2d,Np)"
   ]
  },
  {
   "cell_type": "code",
   "execution_count": 8,
   "id": "e0df1416-5af6-4b0c-8803-aefc142ee86e",
   "metadata": {},
   "outputs": [],
   "source": [
    "lamc2,_,_,_=OS.Orr_Sommerfeld_Temporal(N,R,0.5,1,n2d,Np)"
   ]
  },
  {
   "cell_type": "code",
   "execution_count": 10,
   "id": "0bc5b688-c911-46e6-afce-0fc90098623e",
   "metadata": {},
   "outputs": [
    {
     "data": {
      "image/png": "[encoded data removed]",
      "text/plain": [
       "<Figure size 432x288 with 1 Axes>"
      ]
     },
     "metadata": {
      "needs_background": "light"
     },
     "output_type": "display_data"
    },
    {
     "data": {
      "image/png": "[encoded data removed]",
      "text/plain": [
       "<Figure size 432x288 with 1 Axes>"
      ]
     },
     "metadata": {
      "needs_background": "light"
     },
     "output_type": "display_data"
    }
   ],
   "source": [
    "\n",
    "x_ = [ele.real for ele in lamc]\n",
    "y_ = [ele.imag for ele in lamc]\n",
    "  \n",
    "plt.scatter(x_, y_, label=\"Scarafia\")\n",
    "plt.scatter(lamcb0[:,0],lamcb0[:,1],marker='^', label=\"Schmid\")\n",
    "plt.ylabel('Img($\\lambda$)')\n",
    "plt.xlabel('Re($\\lambda$)')\n",
    "plt.title(r'$Re=800$ ; $\\alpha=1$ ; $\\beta=0$')\n",
    "plt.ylim(-2,0.1)\n",
    "plt.xlim(-1,1)\n",
    "plt.grid()\n",
    "plt.legend()\n",
    "plt.show()\n",
    "\n",
    "\n",
    "\n",
    "x_ = [ele.real for ele in lamc2]\n",
    "y_ = [ele.imag for ele in lamc2]\n",
    "  \n",
    "plt.scatter(x_, y_, label=\"Scarafia\")\n",
    "plt.scatter(lamcb1[:,0],lamcb1[:,1],marker='^',label=\"Schmid\")\n",
    "plt.ylabel('Img($\\lambda$)')\n",
    "plt.xlabel('Re($\\lambda$)')\n",
    "plt.title(r'$Re=800$ ; $\\alpha=0.5$ ; $\\beta=1$')\n",
    "plt.ylim(-2,0.1)\n",
    "plt.xlim(-1,1)\n",
    "plt.grid()\n",
    "plt.legend()\n",
    "plt.show()"
   ]
  },
  {
   "cell_type": "code",
   "execution_count": null,
   "id": "6d35ee16-eba2-4b94-88d1-f0a033e5f876",
   "metadata": {},
   "outputs": [],
   "source": []
  }
 ],
 "metadata": {
  "kernelspec": {
   "display_name": "Python 3 (ipykernel)",
   "language": "python",
   "name": "python3"
  },
  "language_info": {
   "codemirror_mode": {
    "name": "ipython",
    "version": 3
   },
   "file_extension": ".py",
   "mimetype": "text/x-python",
   "name": "python",
   "nbconvert_exporter": "python",
   "pygments_lexer": "ipython3",
   "version": "3.9.5"
  }
 },
 "nbformat": 4,
 "nbformat_minor": 5
}
